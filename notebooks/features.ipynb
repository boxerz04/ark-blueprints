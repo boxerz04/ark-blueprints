{
 "cells": [
  {
   "cell_type": "markdown",
   "id": "8d094810-8c70-4471-822d-b726ee865808",
   "metadata": {},
   "source": [
    "# プロジェクトルート固定 & パス定義"
   ]
  },
  {
   "cell_type": "code",
   "execution_count": 3,
   "id": "8f0f0d67-fc9e-422e-9220-c6104d5dcee7",
   "metadata": {},
   "outputs": [
    {
     "name": "stdout",
     "output_type": "stream",
     "text": [
      "PROJECT_ROOT: C:\\Users\\user\\Desktop\\Git\\ark-blueprints\n",
      "MASTER_CSV exists? True\n"
     ]
    }
   ],
   "source": [
    "from pathlib import Path\n",
    "\n",
    "PROJECT_ROOT = Path(r\"C:\\Users\\user\\Desktop\\Git\\ark-blueprints\")  # ←環境に合わせて\n",
    "DATA_DIR     = PROJECT_ROOT / \"data\" / \"processed\"\n",
    "MODEL_DIR    = PROJECT_ROOT / \"models\" / \"latest\"\n",
    "DATA_DIR.mkdir(parents=True, exist_ok=True)\n",
    "MODEL_DIR.mkdir(parents=True, exist_ok=True)\n",
    "\n",
    "MASTER_CSV = DATA_DIR / \"master.csv\"\n",
    "\n",
    "print(\"PROJECT_ROOT:\", PROJECT_ROOT)\n",
    "print(\"MASTER_CSV exists?\", MASTER_CSV.exists())\n"
   ]
  },
  {
   "cell_type": "markdown",
   "id": "2c9c9ed4-8f63-4351-b9b1-ee8aeba38479",
   "metadata": {},
   "source": [
    "# 読み込み（前処理済み master.csv）"
   ]
  },
  {
   "cell_type": "code",
   "execution_count": 5,
   "id": "86bf16b7-55b9-4656-87cd-168ba13df535",
   "metadata": {},
   "outputs": [
    {
     "name": "stdout",
     "output_type": "stream",
     "text": [
      "(11880, 67)\n"
     ]
    },
    {
     "data": {
      "text/html": [
       "<div>\n",
       "<style scoped>\n",
       "    .dataframe tbody tr th:only-of-type {\n",
       "        vertical-align: middle;\n",
       "    }\n",
       "\n",
       "    .dataframe tbody tr th {\n",
       "        vertical-align: top;\n",
       "    }\n",
       "\n",
       "    .dataframe thead th {\n",
       "        text-align: right;\n",
       "    }\n",
       "</style>\n",
       "<table border=\"1\" class=\"dataframe\">\n",
       "  <thead>\n",
       "    <tr style=\"text-align: right;\">\n",
       "      <th></th>\n",
       "      <th>player_id</th>\n",
       "      <th>AB_class</th>\n",
       "      <th>age</th>\n",
       "      <th>weight</th>\n",
       "      <th>team</th>\n",
       "      <th>origin</th>\n",
       "      <th>run_once</th>\n",
       "      <th>F</th>\n",
       "      <th>L</th>\n",
       "      <th>ST_mean</th>\n",
       "      <th>...</th>\n",
       "      <th>race_attribute</th>\n",
       "      <th>title</th>\n",
       "      <th>day</th>\n",
       "      <th>section</th>\n",
       "      <th>schedule</th>\n",
       "      <th>is_wakunari</th>\n",
       "      <th>section_id</th>\n",
       "      <th>__source_file</th>\n",
       "      <th>ST_tenji_rank</th>\n",
       "      <th>is_top2</th>\n",
       "    </tr>\n",
       "  </thead>\n",
       "  <tbody>\n",
       "    <tr>\n",
       "      <th>0</th>\n",
       "      <td>4648</td>\n",
       "      <td>B1</td>\n",
       "      <td>41</td>\n",
       "      <td>52.1</td>\n",
       "      <td>兵庫</td>\n",
       "      <td>大阪</td>\n",
       "      <td>0</td>\n",
       "      <td>0</td>\n",
       "      <td>0</td>\n",
       "      <td>0.15</td>\n",
       "      <td>...</td>\n",
       "      <td>分類なし</td>\n",
       "      <td>第１９回マンスリーＢＯＡＴＲＡＣＥ杯</td>\n",
       "      <td>1</td>\n",
       "      <td>6</td>\n",
       "      <td>8/24-8/29</td>\n",
       "      <td>1</td>\n",
       "      <td>20250824_01</td>\n",
       "      <td>20250824_raw.csv</td>\n",
       "      <td>5</td>\n",
       "      <td>1</td>\n",
       "    </tr>\n",
       "    <tr>\n",
       "      <th>1</th>\n",
       "      <td>3156</td>\n",
       "      <td>B1</td>\n",
       "      <td>60</td>\n",
       "      <td>53.1</td>\n",
       "      <td>静岡</td>\n",
       "      <td>静岡</td>\n",
       "      <td>0</td>\n",
       "      <td>0</td>\n",
       "      <td>0</td>\n",
       "      <td>0.17</td>\n",
       "      <td>...</td>\n",
       "      <td>分類なし</td>\n",
       "      <td>第１９回マンスリーＢＯＡＴＲＡＣＥ杯</td>\n",
       "      <td>1</td>\n",
       "      <td>6</td>\n",
       "      <td>8/24-8/29</td>\n",
       "      <td>1</td>\n",
       "      <td>20250824_01</td>\n",
       "      <td>20250824_raw.csv</td>\n",
       "      <td>2</td>\n",
       "      <td>0</td>\n",
       "    </tr>\n",
       "    <tr>\n",
       "      <th>2</th>\n",
       "      <td>4470</td>\n",
       "      <td>A2</td>\n",
       "      <td>38</td>\n",
       "      <td>52.0</td>\n",
       "      <td>三重</td>\n",
       "      <td>三重</td>\n",
       "      <td>0</td>\n",
       "      <td>0</td>\n",
       "      <td>0</td>\n",
       "      <td>0.15</td>\n",
       "      <td>...</td>\n",
       "      <td>分類なし</td>\n",
       "      <td>第１９回マンスリーＢＯＡＴＲＡＣＥ杯</td>\n",
       "      <td>1</td>\n",
       "      <td>6</td>\n",
       "      <td>8/24-8/29</td>\n",
       "      <td>1</td>\n",
       "      <td>20250824_01</td>\n",
       "      <td>20250824_raw.csv</td>\n",
       "      <td>2</td>\n",
       "      <td>1</td>\n",
       "    </tr>\n",
       "  </tbody>\n",
       "</table>\n",
       "<p>3 rows × 67 columns</p>\n",
       "</div>"
      ],
      "text/plain": [
       "   player_id AB_class  age  weight team origin  run_once  F  L  ST_mean  ...  \\\n",
       "0       4648       B1   41    52.1   兵庫     大阪         0  0  0     0.15  ...   \n",
       "1       3156       B1   60    53.1   静岡     静岡         0  0  0     0.17  ...   \n",
       "2       4470       A2   38    52.0   三重     三重         0  0  0     0.15  ...   \n",
       "\n",
       "   race_attribute               title  day  section   schedule  is_wakunari  \\\n",
       "0            分類なし  第１９回マンスリーＢＯＡＴＲＡＣＥ杯    1        6  8/24-8/29            1   \n",
       "1            分類なし  第１９回マンスリーＢＯＡＴＲＡＣＥ杯    1        6  8/24-8/29            1   \n",
       "2            分類なし  第１９回マンスリーＢＯＡＴＲＡＣＥ杯    1        6  8/24-8/29            1   \n",
       "\n",
       "    section_id     __source_file  ST_tenji_rank  is_top2  \n",
       "0  20250824_01  20250824_raw.csv              5        1  \n",
       "1  20250824_01  20250824_raw.csv              2        0  \n",
       "2  20250824_01  20250824_raw.csv              2        1  \n",
       "\n",
       "[3 rows x 67 columns]"
      ]
     },
     "execution_count": 5,
     "metadata": {},
     "output_type": "execute_result"
    }
   ],
   "source": [
    "import pandas as pd\n",
    "\n",
    "df = pd.read_csv(MASTER_CSV, encoding=\"utf-8-sig\", parse_dates=[\"date\"])\n",
    "print(df.shape)\n",
    "df.head(3)\n"
   ]
  },
  {
   "cell_type": "markdown",
   "id": "2d393d51-53d7-4c3b-9c3e-f8ad96520b64",
   "metadata": {},
   "source": [
    "# 目的変数・ID・リーク列の整理"
   ]
  },
  {
   "cell_type": "code",
   "execution_count": 7,
   "id": "e89025a9-3f90-4e7c-b046-6c9328e9d3ed",
   "metadata": {},
   "outputs": [
    {
     "name": "stdout",
     "output_type": "stream",
     "text": [
      "used shape: (11880, 51)\n",
      "y balance: {0: 7920, 1: 3960}\n"
     ]
    }
   ],
   "source": [
    "# ターゲット/ID/リーク列の整理 ===\n",
    "TARGET = \"is_top2\"\n",
    "\n",
    "ID_COLS   = [\"race_id\", \"player\", \"player_id\", \"motor_number\", \"boat_number\", \"section_id\"]  # 学習に入れない\n",
    "LEAK_COLS = [\"entry\", \"is_wakunari\", \"rank\", \"winning_trick\", \"remarks\", \"henkan_ticket\", \"ST\", \"ST_rank\", \"__source_file\"]\n",
    "\n",
    "y   = df[TARGET].astype(int)\n",
    "ids = df[ID_COLS].astype(str)\n",
    "\n",
    "used = df.drop(columns=ID_COLS + LEAK_COLS + [TARGET], errors=\"ignore\").copy()\n",
    "\n",
    "# 最小の整合性チェック（変換はしない）\n",
    "assert \"wakuban\" in used.columns, \"wakuban が見当たりません（preprocessの出力を確認）\"\n",
    "assert used[\"wakuban\"].between(1, 6).all(), \"wakuban に 1–6 以外の値があります\"\n",
    "assert \"ST_tenji\" in used.columns, \"ST_tenji が見当たりません\"\n",
    "\n",
    "print(\"used shape:\", used.shape)\n",
    "print(\"y balance:\", y.value_counts().to_dict())\n"
   ]
  },
  {
   "cell_type": "markdown",
   "id": "aeecb9b0-a67d-47a9-bd73-a136c3aecd28",
   "metadata": {},
   "source": [
    "# 時系列ソート（レース単位）"
   ]
  },
  {
   "cell_type": "code",
   "execution_count": 9,
   "id": "475f222f-3594-4522-8f66-9a1b8c9e67e3",
   "metadata": {},
   "outputs": [
    {
     "name": "stdout",
     "output_type": "stream",
     "text": [
      "[check] date monotonic?  True\n",
      "[check] rows per race (head):\n",
      "race_id\n",
      "202508240101    6\n",
      "202508240102    6\n",
      "202508240104    6\n",
      "202508240105    6\n",
      "202508240106    6\n",
      "Name: wakuban, dtype: int64\n",
      "[ok] sorted shapes  used: (11880, 51)  y: (11880,)  ids: (11880, 6)\n"
     ]
    }
   ],
   "source": [
    "# === セル3：時系列ソート（レース単位）→ y / ids / used を再構成 ===\n",
    "import numpy as np\n",
    "import pandas as pd\n",
    "\n",
    "# 代表日付：各レースの最小date（同一race_idでも念のため）\n",
    "race_date = df.groupby(\"race_id\")[\"date\"].min()\n",
    "\n",
    "# タイブレーク用に code, R（存在すれば）も持ってくる\n",
    "meta = df.groupby(\"race_id\")[[\"code\",\"R\"]].min() if {\"code\",\"R\"}.issubset(df.columns) else pd.DataFrame(index=race_date.index)\n",
    "\n",
    "race_order = (\n",
    "    race_date.to_frame(\"race_date\")\n",
    "             .join(meta)\n",
    "             .sort_values([\"race_date\",\"code\",\"R\"], na_position=\"last\")\n",
    "             .index.to_numpy()\n",
    ")\n",
    "\n",
    "# 上記の順に race を並べ、行（艇）は wakuban 昇順で固定\n",
    "df_sorted = (\n",
    "    df.set_index(\"race_id\")\n",
    "      .loc[race_order]\n",
    "      .reset_index()\n",
    "      .sort_values([\"date\",\"race_id\",\"wakuban\"])\n",
    "      .reset_index(drop=True)\n",
    ")\n",
    "\n",
    "# 並び替え後に改めて y / ids / used を作り直す（重要！）\n",
    "y   = df_sorted[TARGET].astype(int).copy()\n",
    "ids = df_sorted[ID_COLS].astype(str).copy()\n",
    "used = df_sorted.drop(columns=ID_COLS + LEAK_COLS + [TARGET], errors=\"ignore\").copy()\n",
    "\n",
    "# 簡易チェック\n",
    "print(\"[check] date monotonic? \", bool(df_sorted[\"date\"].is_monotonic_increasing))\n",
    "if \"wakuban\" in df_sorted.columns:\n",
    "    gb = df_sorted.groupby(\"race_id\")[\"wakuban\"].count()\n",
    "    print(\"[check] rows per race (head):\")\n",
    "    print(gb.head())\n",
    "    assert (gb >= 2).all(), \"レース内の行数が極端に少ないものがあります（データを確認）\"\n",
    "\n",
    "print(\"[ok] sorted shapes  used:\", used.shape, \" y:\", y.shape, \" ids:\", ids.shape)\n"
   ]
  },
  {
   "cell_type": "markdown",
   "id": "fba8f439-e104-47de-9f5c-4ecfe1fd32db",
   "metadata": {},
   "source": [
    "# 列の選定（数値/カテゴリ）"
   ]
  },
  {
   "cell_type": "code",
   "execution_count": 11,
   "id": "8d7d28a0-ca92-4a9b-bb3f-dc044248203f",
   "metadata": {},
   "outputs": [
    {
     "name": "stdout",
     "output_type": "stream",
     "text": [
      "NUM_COLS (32): ['age', 'weight', 'run_once', 'F', 'L', 'ST_mean', 'N_winning_rate', 'N_2rentai_rate', 'N_3rentai_rate', 'LC_winning_rate'] ...\n",
      "CAT_COLS (8): ['AB_class', 'place', 'race_attribute', 'race_grade', 'race_type', 'sex', 'weather', 'wind_direction'] ...\n",
      "[drop now] ['origin', 'parts_exchange', 'precondition_1', 'precondition_2', 'propeller', 'schedule', 'team', 'timetable', 'title']\n",
      "\n",
      "[CAT_COLS cardinality]\n",
      " place             22\n",
      "wind_direction    17\n",
      "race_type          5\n",
      "AB_class           4\n",
      "race_grade         4\n",
      "race_attribute     3\n",
      "weather            3\n",
      "sex                2\n"
     ]
    }
   ],
   "source": [
    "# === 数値=全部 / カテゴリ=SAFE＋低カーディナリティ自動追加 → 明示ドロップ ===\n",
    "from pandas.api.types import is_numeric_dtype\n",
    "\n",
    "# 1) 数値は全部\n",
    "NUM_COLS = [c for c in used.columns if is_numeric_dtype(used[c])]\n",
    "\n",
    "# 2) カテゴリ：SAFE + 低カーディナリティ（<=50）を自動追加\n",
    "SAFE_CAT = [\n",
    "    # team, origin, timetable, title, schedule, precondition_1/2, propeller, parts_exchange は入れない\n",
    "    \"AB_class\",\"place\",\"weather\",\"wind_direction\",\"sex\",\n",
    "    \"race_grade\",\"race_type\",\"race_attribute\",\n",
    "]\n",
    "MAX_CAT_CARD = 50\n",
    "\n",
    "obj_cols        = used.select_dtypes(include=\"object\").columns.tolist()\n",
    "safe_present    = [c for c in SAFE_CAT if c in obj_cols]\n",
    "auto_candidates = [c for c in obj_cols if c not in safe_present]\n",
    "auto_card       = used[auto_candidates].nunique(dropna=True).sort_values(ascending=False)\n",
    "auto_add        = auto_card[auto_card <= MAX_CAT_CARD].index.tolist()\n",
    "\n",
    "CAT_COLS = sorted(set(safe_present + auto_add))\n",
    "\n",
    "# 3) 今は使わない列を明示ドロップ\n",
    "DROP_FEATS = [\n",
    "    \"origin\",\"team\",\"parts_exchange\",\"title\",\"schedule\",\"timetable\",\n",
    "    \"precondition_1\",\"precondition_2\",\"propeller\",\n",
    "]\n",
    "NUM_COLS = [c for c in NUM_COLS if c not in DROP_FEATS]\n",
    "CAT_COLS = [c for c in CAT_COLS if c not in DROP_FEATS]\n",
    "\n",
    "print(f\"NUM_COLS ({len(NUM_COLS)}):\", NUM_COLS[:10], \"...\")\n",
    "print(f\"CAT_COLS ({len(CAT_COLS)}):\", CAT_COLS[:10], \"...\")\n",
    "print(f\"[drop now] {sorted([c for c in DROP_FEATS if c in used.columns])}\")\n",
    "\n",
    "# 4) 採用した CAT_COLS のユニーク数を出力\n",
    "if CAT_COLS:\n",
    "    cat_card = used[CAT_COLS].nunique(dropna=True).sort_values(ascending=False)\n",
    "    print(\"\\n[CAT_COLS cardinality]\\n\", cat_card.to_string())\n",
    "else:\n",
    "    print(\"\\n[CAT_COLS cardinality] (none)\")\n"
   ]
  },
  {
   "cell_type": "code",
   "execution_count": 12,
   "id": "58ceecd5-2f3d-4fae-8816-5755f66566cb",
   "metadata": {},
   "outputs": [
    {
     "data": {
      "text/plain": [
       "32"
      ]
     },
     "execution_count": 12,
     "metadata": {},
     "output_type": "execute_result"
    }
   ],
   "source": [
    "len(NUM_COLS)"
   ]
  },
  {
   "cell_type": "code",
   "execution_count": 13,
   "id": "1143af4e-fdb9-46bf-a955-df427e226756",
   "metadata": {},
   "outputs": [
    {
     "data": {
      "text/plain": [
       "['age',\n",
       " 'weight',\n",
       " 'run_once',\n",
       " 'F',\n",
       " 'L',\n",
       " 'ST_mean',\n",
       " 'N_winning_rate',\n",
       " 'N_2rentai_rate',\n",
       " 'N_3rentai_rate',\n",
       " 'LC_winning_rate',\n",
       " 'LC_2rentai_rate',\n",
       " 'LC_3rentai_rate',\n",
       " 'motor_2rentai_rate',\n",
       " 'motor_3rentai_rate',\n",
       " 'boat_2rentai_rate',\n",
       " 'boat_3rentai_rate',\n",
       " 'pred_mark',\n",
       " 'code',\n",
       " 'R',\n",
       " 'entry_tenji',\n",
       " 'ST_tenji',\n",
       " 'counter_weight',\n",
       " 'time_tenji',\n",
       " 'Tilt',\n",
       " 'temperature',\n",
       " 'wind_speed',\n",
       " 'water_temperature',\n",
       " 'wave_height',\n",
       " 'wakuban',\n",
       " 'day',\n",
       " 'section',\n",
       " 'ST_tenji_rank']"
      ]
     },
     "execution_count": 13,
     "metadata": {},
     "output_type": "execute_result"
    }
   ],
   "source": [
    "NUM_COLS"
   ]
  },
  {
   "cell_type": "markdown",
   "id": "9a5d3da0-8a7e-41b8-91d7-b281935f529e",
   "metadata": {},
   "source": [
    "# 前処理パイプライン"
   ]
  },
  {
   "cell_type": "code",
   "execution_count": 15,
   "id": "d3c0dca3-6c41-4ccc-88fb-39fa375626d4",
   "metadata": {},
   "outputs": [
    {
     "name": "stdout",
     "output_type": "stream",
     "text": [
      "[Pipeline] num=32 cat=8\n"
     ]
    }
   ],
   "source": [
    "# === セル4：前処理パイプライン構築（scikit-learn >= 1.2） ===\n",
    "from sklearn.compose import ColumnTransformer\n",
    "from sklearn.pipeline import Pipeline\n",
    "from sklearn.preprocessing import OneHotEncoder, StandardScaler\n",
    "\n",
    "# 1) 数値列の処理\n",
    "num_tf = Pipeline(steps=[\n",
    "    (\"scaler\", StandardScaler())\n",
    "])\n",
    "\n",
    "# 2) カテゴリ列の処理（One-Hot）\n",
    "cat_tf = Pipeline(steps=[\n",
    "    (\"ohe\", OneHotEncoder(\n",
    "        handle_unknown=\"ignore\",   # 未知カテゴリを無視（安全）\n",
    "        sparse_output=True        # ← v1.2+ はコレ（旧: sparse=False）\n",
    "    ))\n",
    "])\n",
    "\n",
    "# 3) 全体をまとめる\n",
    "preprocessor = ColumnTransformer(\n",
    "    transformers=[\n",
    "        (\"num\", num_tf, NUM_COLS),\n",
    "        (\"cat\", cat_tf, CAT_COLS),\n",
    "    ],\n",
    "    remainder=\"drop\"\n",
    ")\n",
    "\n",
    "print(f\"[Pipeline] num={len(NUM_COLS)} cat={len(CAT_COLS)}\")\n"
   ]
  },
  {
   "cell_type": "markdown",
   "id": "43f493c8-6f76-4f22-b4d9-abe7195e4e54",
   "metadata": {},
   "source": [
    "# 前処理を当てて形状確認"
   ]
  },
  {
   "cell_type": "code",
   "execution_count": 17,
   "id": "5c8ee6e2-1233-4d76-ba25-b63296587402",
   "metadata": {},
   "outputs": [
    {
     "name": "stdout",
     "output_type": "stream",
     "text": [
      "<class 'numpy.ndarray'> (11880, 92)\n",
      "y balance: {0: 7920, 1: 3960}\n"
     ]
    }
   ],
   "source": [
    "# === fit_transform（形状・疎密・y分布の確認） ===\n",
    "import numpy as np\n",
    "\n",
    "X = preprocessor.fit_transform(used)  # 前処理を学習してから変換\n",
    "print(type(X), X.shape)\n",
    "\n",
    "# y（目的変数）の分布\n",
    "print(\"y balance:\", y.value_counts().to_dict())\n"
   ]
  },
  {
   "cell_type": "markdown",
   "id": "95194f8b-b60d-4215-8694-6c8afa196b54",
   "metadata": {},
   "source": [
    "# 特徴を保存（学習で使うファイル群）"
   ]
  },
  {
   "cell_type": "code",
   "execution_count": 19,
   "id": "7431fa1b-05f8-44ac-abf6-9b5bda67571b",
   "metadata": {},
   "outputs": [
    {
     "name": "stdout",
     "output_type": "stream",
     "text": [
      "[OK] saved to: C:\\Users\\user\\Desktop\\Git\\ark-blueprints\\data\\processed\n",
      " - X: C:\\Users\\user\\Desktop\\Git\\ark-blueprints\\data\\processed\\X_dense.npz\n",
      " - y: C:\\Users\\user\\Desktop\\Git\\ark-blueprints\\data\\processed\\y.csv\n",
      " - ids: C:\\Users\\user\\Desktop\\Git\\ark-blueprints\\data\\processed\\ids.csv\n",
      " - pipeline: C:\\Users\\user\\Desktop\\Git\\ark-blueprints\\models\\latest\\feature_pipeline.pkl\n"
     ]
    }
   ],
   "source": [
    "# === セル6：特徴・ターゲット・ID・前処理パイプを保存 ===\n",
    "from scipy import sparse\n",
    "from scipy.sparse import save_npz\n",
    "import joblib\n",
    "\n",
    "OUT_DIR = DATA_DIR  # data/processed\n",
    "OUT_DIR.mkdir(parents=True, exist_ok=True)\n",
    "\n",
    "# X は numpy / scipy どちらでも保存できるよう分岐\n",
    "if sparse.issparse(X):\n",
    "    save_npz(OUT_DIR / \"X.npz\", X)\n",
    "else:\n",
    "    # 密行列の場合は np.savez_compressed\n",
    "    np.savez_compressed(OUT_DIR / \"X_dense.npz\", X=X)\n",
    "\n",
    "y.to_csv(OUT_DIR / \"y.csv\", index=False, encoding=\"utf-8-sig\")\n",
    "ids.to_csv(OUT_DIR / \"ids.csv\", index=False, encoding=\"utf-8-sig\")\n",
    "\n",
    "# 前処理器（学習時に再利用）\n",
    "joblib.dump(preprocessor, MODEL_DIR / \"feature_pipeline.pkl\")\n",
    "\n",
    "print(\"[OK] saved to:\", OUT_DIR)\n",
    "print(\" - X:\", (OUT_DIR / (\"X.npz\" if sparse.issparse(X) else \"X_dense.npz\")))\n",
    "print(\" - y:\", OUT_DIR / \"y.csv\")\n",
    "print(\" - ids:\", OUT_DIR / \"ids.csv\")\n",
    "print(\" - pipeline:\", MODEL_DIR / \"feature_pipeline.pkl\")\n"
   ]
  },
  {
   "cell_type": "markdown",
   "id": "3e846ae8-f232-4437-a345-20d613de6d0c",
   "metadata": {},
   "source": [
    "# LightGBMでクイックCV（GroupKFold）"
   ]
  },
  {
   "cell_type": "code",
   "execution_count": 21,
   "id": "11fa8364-6f59-4b8d-99e4-fc521e2ce9e4",
   "metadata": {},
   "outputs": [
    {
     "name": "stdout",
     "output_type": "stream",
     "text": [
      "[split] races train/valid = 1584 / 396\n",
      "[split] rows   train/valid = 9504 / 2376\n",
      "[LightGBM] [Info] Number of positive: 3168, number of negative: 6336\n",
      "[LightGBM] [Info] Auto-choosing col-wise multi-threading, the overhead of testing was 0.001386 seconds.\n",
      "You can set `force_col_wise=true` to remove the overhead.\n",
      "[LightGBM] [Info] Total Bins 3159\n",
      "[LightGBM] [Info] Number of data points in the train set: 9504, number of used features: 91\n",
      "[LightGBM] [Info] [binary:BoostFromScore]: pavg=0.333333 -> initscore=-0.693147\n",
      "[LightGBM] [Info] Start training from score -0.693147\n",
      "[TimeHoldout] AUC=0.7661  Top-2Hit=0.8939\n"
     ]
    }
   ],
   "source": [
    "# === 時系列ホールドアウト（前80%→学習 / 後20%→検証）AUC + Top-2 ===\n",
    "from lightgbm import LGBMClassifier\n",
    "from sklearn.metrics import roc_auc_score\n",
    "import numpy as np\n",
    "\n",
    "# 1) レース順（セル3の df_sorted が時系列になっている前提）\n",
    "rid_order = df_sorted[\"race_id\"].astype(str).to_numpy()\n",
    "uniq_rids = np.unique(rid_order)  # 順序は np.unique が壊す可能性→下で取り直す\n",
    "\n",
    "# 順序保持のユニーク（np.uniqueはソートするので注意）\n",
    "seen = set(); uniq_rids_ordered = []\n",
    "for rid in rid_order:\n",
    "    if rid not in seen:\n",
    "        seen.add(rid); uniq_rids_ordered.append(rid)\n",
    "uniq_rids = np.array(uniq_rids_ordered)\n",
    "\n",
    "# 2) 80/20 でレースを分割（行ではなくレース単位）\n",
    "split_at = int(len(uniq_rids) * 0.8)\n",
    "train_rids = set(uniq_rids[:split_at])\n",
    "valid_rids = set(uniq_rids[split_at:])\n",
    "\n",
    "m_tr = np.array([rid in train_rids for rid in rid_order])\n",
    "m_va = ~m_tr\n",
    "\n",
    "# 行インデックス取得（位置ベース）\n",
    "tr_idx = np.where(m_tr)[0]\n",
    "va_idx = np.where(m_va)[0]\n",
    "\n",
    "print(f\"[split] races train/valid = {len(train_rids)} / {len(valid_rids)}\")\n",
    "print(f\"[split] rows   train/valid = {len(tr_idx)} / {len(va_idx)}\")\n",
    "\n",
    "# 3) 前処理→学習→評価\n",
    "Xtr = preprocessor.fit_transform(used.iloc[tr_idx])\n",
    "Xva = preprocessor.transform(used.iloc[va_idx])\n",
    "\n",
    "y_np = y.to_numpy(dtype=int)\n",
    "ytr  = y_np[tr_idx]\n",
    "yva  = y_np[va_idx]\n",
    "rid_va = rid_order[va_idx]\n",
    "\n",
    "clf = LGBMClassifier(\n",
    "    n_estimators=400, learning_rate=0.05, num_leaves=63,\n",
    "    subsample=0.8, colsample_bytree=0.8, random_state=42, n_jobs=-1\n",
    ")\n",
    "clf.fit(Xtr, ytr)\n",
    "\n",
    "proba = clf.predict_proba(Xva)[:, 1]\n",
    "auc   = roc_auc_score(yva, proba)\n",
    "\n",
    "# Top-2 ヒット率（レース内で確率上位2艇に正解が含まれるか）\n",
    "hits = []\n",
    "for rid in np.unique(rid_va):\n",
    "    m = (rid_va == rid)\n",
    "    if m.sum() < 2:  # 念のため\n",
    "        continue\n",
    "    order = np.argsort(proba[m])[::-1]\n",
    "    top2  = yva[m][order[:2]]\n",
    "    hits.append(int(top2.sum() > 0))\n",
    "top2 = float(np.mean(hits)) if hits else float(\"nan\")\n",
    "\n",
    "print(f\"[TimeHoldout] AUC={auc:.4f}  Top-2Hit={top2:.4f}\")\n"
   ]
  },
  {
   "cell_type": "markdown",
   "id": "d13f3ea6-eddf-443e-840e-fc750334f8a4",
   "metadata": {},
   "source": [
    "# 特徴量重要度（LightGBM）"
   ]
  },
  {
   "cell_type": "code",
   "execution_count": 23,
   "id": "91fab6ce-dd86-406f-ab2e-fbca1a3cda36",
   "metadata": {},
   "outputs": [
    {
     "data": {
      "image/png": "[encoded data removed]",
      "text/plain": [
       "<Figure size 1000x600 with 1 Axes>"
      ]
     },
     "metadata": {},
     "output_type": "display_data"
    }
   ],
   "source": [
    "# === セル8：特徴量重要度（LightGBM） ===\n",
    "import matplotlib.pyplot as plt\n",
    "\n",
    "# 特徴量名（引数なしで呼ぶ）\n",
    "feature_names = preprocessor.get_feature_names_out()\n",
    "\n",
    "# 重要度を取得\n",
    "importances = clf.feature_importances_\n",
    "indices = np.argsort(importances)[::-1]\n",
    "\n",
    "# 上位20を可視化\n",
    "plt.figure(figsize=(10,6))\n",
    "plt.barh(range(20), importances[indices[:20]][::-1])\n",
    "plt.yticks(range(20), feature_names[indices[:20]][::-1])\n",
    "plt.xlabel(\"Importance\")\n",
    "plt.title(\"LightGBM Feature Importances (Top 20)\")\n",
    "plt.show()\n"
   ]
  },
  {
   "cell_type": "code",
   "execution_count": 24,
   "id": "69709eec-3115-4c98-bf54-b2f46300726d",
   "metadata": {},
   "outputs": [
    {
     "data": {
      "text/plain": [
       "array(['num__age', 'num__weight', 'num__run_once', 'num__F', 'num__L',\n",
       "       'num__ST_mean', 'num__N_winning_rate', 'num__N_2rentai_rate',\n",
       "       'num__N_3rentai_rate', 'num__LC_winning_rate',\n",
       "       'num__LC_2rentai_rate', 'num__LC_3rentai_rate',\n",
       "       'num__motor_2rentai_rate', 'num__motor_3rentai_rate',\n",
       "       'num__boat_2rentai_rate', 'num__boat_3rentai_rate',\n",
       "       'num__pred_mark', 'num__code', 'num__R', 'num__entry_tenji',\n",
       "       'num__ST_tenji', 'num__counter_weight', 'num__time_tenji',\n",
       "       'num__Tilt', 'num__temperature', 'num__wind_speed',\n",
       "       'num__water_temperature', 'num__wave_height', 'num__wakuban',\n",
       "       'num__day', 'num__section', 'num__ST_tenji_rank',\n",
       "       'cat__AB_class_A1', 'cat__AB_class_A2', 'cat__AB_class_B1',\n",
       "       'cat__AB_class_B2', 'cat__place_びわこ', 'cat__place_三国',\n",
       "       'cat__place_下関', 'cat__place_丸亀', 'cat__place_住之江',\n",
       "       'cat__place_児島', 'cat__place_唐津', 'cat__place_多摩川',\n",
       "       'cat__place_大村', 'cat__place_宮島', 'cat__place_常滑',\n",
       "       'cat__place_平和島', 'cat__place_徳山', 'cat__place_戸田',\n",
       "       'cat__place_桐生', 'cat__place_江戸川', 'cat__place_津',\n",
       "       'cat__place_浜名湖', 'cat__place_福岡', 'cat__place_芦屋',\n",
       "       'cat__place_若松', 'cat__place_鳴門',\n",
       "       'cat__race_attribute_rookie__3rdadd', 'cat__race_attribute_venus',\n",
       "       'cat__race_attribute_分類なし', 'cat__race_grade_G1b',\n",
       "       'cat__race_grade_G3b', 'cat__race_grade_SGa',\n",
       "       'cat__race_grade_ippan', 'cat__race_type_midnight',\n",
       "       'cat__race_type_morning', 'cat__race_type_nighter',\n",
       "       'cat__race_type_summer', 'cat__race_type_分類なし', 'cat__sex_女性',\n",
       "       'cat__sex_男性', 'cat__weather_晴', 'cat__weather_曇り',\n",
       "       'cat__weather_雨', 'cat__wind_direction_wind1',\n",
       "       'cat__wind_direction_wind10', 'cat__wind_direction_wind11',\n",
       "       'cat__wind_direction_wind12', 'cat__wind_direction_wind13',\n",
       "       'cat__wind_direction_wind14', 'cat__wind_direction_wind15',\n",
       "       'cat__wind_direction_wind16', 'cat__wind_direction_wind17',\n",
       "       'cat__wind_direction_wind2', 'cat__wind_direction_wind3',\n",
       "       'cat__wind_direction_wind4', 'cat__wind_direction_wind5',\n",
       "       'cat__wind_direction_wind6', 'cat__wind_direction_wind7',\n",
       "       'cat__wind_direction_wind8', 'cat__wind_direction_wind9'],\n",
       "      dtype=object)"
      ]
     },
     "execution_count": 24,
     "metadata": {},
     "output_type": "execute_result"
    }
   ],
   "source": [
    "feature_names"
   ]
  },
  {
   "cell_type": "code",
   "execution_count": 25,
   "id": "4a42958e-33ff-4227-bdbf-0c296f77d130",
   "metadata": {},
   "outputs": [
    {
     "name": "stdout",
     "output_type": "stream",
     "text": [
      "wakuban importance: 455.0  (rank 24/92)\n"
     ]
    }
   ],
   "source": [
    "import numpy as np\n",
    "\n",
    "feature_names = preprocessor.get_feature_names_out()\n",
    "importances = clf.feature_importances_\n",
    "idx = np.where(feature_names == \"num__wakuban\")[0]\n",
    "if len(idx):\n",
    "    i = idx[0]\n",
    "    rank = int(np.argsort(importances)[::-1].tolist().index(i) + 1)\n",
    "    print(f\"wakuban importance: {importances[i]:.1f}  (rank {rank}/{len(feature_names)})\")\n",
    "else:\n",
    "    print(\"wakuban feature not found in transformed names\")\n"
   ]
  },
  {
   "cell_type": "code",
   "execution_count": 26,
   "id": "13726046-d778-4a30-a3c2-34d0b28fe27c",
   "metadata": {},
   "outputs": [
    {
     "name": "stdout",
     "output_type": "stream",
     "text": [
      "<class 'pandas.core.frame.DataFrame'>\n",
      "RangeIndex: 11880 entries, 0 to 11879\n",
      "Data columns (total 51 columns):\n",
      " #   Column              Non-Null Count  Dtype         \n",
      "---  ------              --------------  -----         \n",
      " 0   AB_class            11880 non-null  object        \n",
      " 1   age                 11880 non-null  int64         \n",
      " 2   weight              11880 non-null  float64       \n",
      " 3   team                11880 non-null  object        \n",
      " 4   origin              11880 non-null  object        \n",
      " 5   run_once            11880 non-null  int64         \n",
      " 6   F                   11880 non-null  int64         \n",
      " 7   L                   11880 non-null  int64         \n",
      " 8   ST_mean             11880 non-null  float64       \n",
      " 9   N_winning_rate      11880 non-null  float64       \n",
      " 10  N_2rentai_rate      11880 non-null  float64       \n",
      " 11  N_3rentai_rate      11880 non-null  float64       \n",
      " 12  LC_winning_rate     11880 non-null  float64       \n",
      " 13  LC_2rentai_rate     11880 non-null  float64       \n",
      " 14  LC_3rentai_rate     11880 non-null  float64       \n",
      " 15  motor_2rentai_rate  11880 non-null  float64       \n",
      " 16  motor_3rentai_rate  11880 non-null  float64       \n",
      " 17  boat_2rentai_rate   11880 non-null  float64       \n",
      " 18  boat_3rentai_rate   11880 non-null  float64       \n",
      " 19  pred_mark           11880 non-null  int64         \n",
      " 20  race_name           11880 non-null  object        \n",
      " 21  precondition_1      270 non-null    object        \n",
      " 22  precondition_2      372 non-null    object        \n",
      " 23  date                11880 non-null  datetime64[ns]\n",
      " 24  code                11880 non-null  int64         \n",
      " 25  R                   11880 non-null  int64         \n",
      " 26  timetable           11880 non-null  object        \n",
      " 27  entry_tenji         11880 non-null  int64         \n",
      " 28  ST_tenji            11880 non-null  float64       \n",
      " 29  counter_weight      11880 non-null  float64       \n",
      " 30  time_tenji          11880 non-null  float64       \n",
      " 31  Tilt                11880 non-null  float64       \n",
      " 32  propeller           46 non-null     object        \n",
      " 33  parts_exchange      667 non-null    object        \n",
      " 34  temperature         11880 non-null  float64       \n",
      " 35  weather             11880 non-null  object        \n",
      " 36  wind_speed          11880 non-null  float64       \n",
      " 37  wind_direction      11880 non-null  object        \n",
      " 38  water_temperature   11880 non-null  float64       \n",
      " 39  wave_height         11880 non-null  float64       \n",
      " 40  wakuban             11880 non-null  int64         \n",
      " 41  sex                 11880 non-null  object        \n",
      " 42  place               11880 non-null  object        \n",
      " 43  race_grade          11880 non-null  object        \n",
      " 44  race_type           11880 non-null  object        \n",
      " 45  race_attribute      11880 non-null  object        \n",
      " 46  title               11880 non-null  object        \n",
      " 47  day                 11880 non-null  int64         \n",
      " 48  section             11880 non-null  int64         \n",
      " 49  schedule            11880 non-null  object        \n",
      " 50  ST_tenji_rank       11880 non-null  int64         \n",
      "dtypes: datetime64[ns](1), float64(20), int64(12), object(18)\n",
      "memory usage: 4.6+ MB\n"
     ]
    }
   ],
   "source": [
    "used.info()"
   ]
  },
  {
   "cell_type": "code",
   "execution_count": null,
   "id": "ce51ef49-9fd2-47a7-a2a0-e49d95dda080",
   "metadata": {},
   "outputs": [],
   "source": []
  }
 ],
 "metadata": {
  "kernelspec": {
   "display_name": "Python 3 (ipykernel)",
   "language": "python",
   "name": "python3"
  },
  "language_info": {
   "codemirror_mode": {
    "name": "ipython",
    "version": 3
   },
   "file_extension": ".py",
   "mimetype": "text/x-python",
   "name": "python",
   "nbconvert_exporter": "python",
   "pygments_lexer": "ipython3",
   "version": "3.12.3"
  }
 },
 "nbformat": 4,
 "nbformat_minor": 5
}
