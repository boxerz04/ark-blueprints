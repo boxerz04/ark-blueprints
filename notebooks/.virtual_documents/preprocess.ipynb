


from pathlib import Path

# ★リポジトリの絶対パスを明示（必要に応じてご自身の環境に合わせてください）
PROJECT_ROOT = Path(r"C:\Users\user\Desktop\Git\ark-blueprints")

# データ入出力パス（以降のセルはこれを使う）
RAW_DIR   = PROJECT_ROOT / "data" / "raw"
OUT_PATH  = PROJECT_ROOT / "data" / "processed" / "master.csv"
AUDIT_DIR = PROJECT_ROOT / "data" / "processed" / "audit"

# 動作確認（notebooks から実行しても、必ずリポジトリ直下を指す）
print("PROJECT_ROOT:", PROJECT_ROOT)
print("RAW_DIR exists?:", RAW_DIR.exists())
print("OUT_PATH will be:", OUT_PATH)
print("AUDIT_DIR will be:", AUDIT_DIR)






import pandas as pd

files = sorted(RAW_DIR.glob("*.csv"))
len(files), files[:]






frames = []
for p in files:
    dfi = pd.read_csv(
        p, encoding="utf-8-sig",
        dtype=str, keep_default_na=False,  # まずは現物優先
        engine="python"
    )
    dfi["__source_file"] = p.name  # デバッグ用（最終出力には残ってもOK）
    frames.append(dfi)

raw = pd.concat(frames, ignore_index=True, sort=False)
raw.shape, list(raw.columns)[:15]






df = raw.copy()

# date は YYYYMMDD が基本の想定（合わない値は NaT）
if "date" in df.columns:
    try:
        df["date"] = pd.to_datetime(df["date"], format="%Y%m%d", errors="coerce")
    except Exception:
        df["date"] = pd.to_datetime(df["date"], errors="coerce")



df.info()





import pandas as pd

# 全角→半角（数字・小数点・マイナスのみ）
ZEN2HAN = str.maketrans("０１２３４５６７８９．－", "0123456789.-")

def normalize_zenkaku_digits(s: pd.Series) -> pd.Series:
    if s.dtype != object:
        return s
    return s.str.translate(ZEN2HAN)

# 4a) rank を最優先で正規化→数値化（今回の肝）
converted_report = {}
if "rank" in df.columns:
    df["rank"] = normalize_zenkaku_digits(df["rank"].astype(str))
    out = pd.to_numeric(df["rank"], errors="coerce").astype("Int64")
    converted_report["rank"] = {"target": "int", "n": int(len(out)), "n_nan": int(out.isna().sum())}
    df["rank"] = out

# 4b) ほかにも全角数字が紛れやすい列だけ軽く正規化
maybe_zen_cols = [c for c in ["wakuban","R","entry","entry_tenji","ST_rank","day","section","code"] if c in df.columns]
for c in maybe_zen_cols:
    if df[c].dtype == object:
        df[c] = normalize_zenkaku_digits(df[c].astype(str))

# 4c) “素直に”型変換（ST/ ST_tenji は触らない）
to_int = [
    "player_id","age","run_once","F","L",
    "motor_number","boat_number","pred_mark","code","R",
    "entry_tenji","wakuban","entry","ST_rank",
    "day","section","is_wakunari",
]
to_float = [
    "weight","ST_mean",
    "temperature","wind_speed","water_temperature","wave_height",
    "time_tenji","Tilt",
]

for c in to_int:
    if c in df.columns:
        out = pd.to_numeric(df[c], errors="coerce").astype("Int64")
        converted_report[c] = {"target": "int", "n": int(len(out)), "n_nan": int(out.isna().sum())}
        df[c] = out

for c in to_float:
    if c in df.columns:
        out = pd.to_numeric(df[c], errors="coerce")
        converted_report[c] = {"target": "float", "n": int(len(out)), "n_nan": int(out.isna().sum())}
        df[c] = out

converted_report






if "race_id" not in df.columns:
    raise ValueError("race_id 列が必要です。")

bad_races_rank = sorted(df.loc[df["rank"].isna(), "race_id"].dropna().unique().tolist())

before_rows, before_races = len(df), df["race_id"].nunique()
df = df[~df["race_id"].isin(bad_races_rank)].copy()
after_rows, after_races = len(df), df["race_id"].nunique()

print(f"[DROP] rank-nonnumeric races: {len(bad_races_rank)}")
print(f"[INFO] rows  {before_rows} -> {after_rows}  (removed {before_rows - after_rows})")
print(f"[INFO] races {before_races} -> {after_races}")






wx_cols = [c for c in ["temperature","wind_speed","water_temperature","wave_height","weather","wind_direction"] if c in df.columns]

if wx_cols:
    mask_any_na = df[wx_cols].isna().any(axis=1)
    bad_races_wx = sorted(df.loc[mask_any_na, "race_id"].dropna().unique().tolist())
else:
    bad_races_wx = []

before_rows2, before_races2 = len(df), df["race_id"].nunique()
df = df[~df["race_id"].isin(bad_races_wx)].copy()
after_rows2, after_races2 = len(df), df["race_id"].nunique()

print(f"[DROP] weather-missing races: {len(bad_races_wx)}")
print(f"[INFO] rows  {before_rows2} -> {after_rows2}  (removed {before_rows2 - after_rows2})")
print(f"[INFO] races {before_races2} -> {after_races2}")






# rate全列を float 化＋NaNは0.00に置換
import pandas as pd

rate_cols = [
    "N_winning_rate","N_2rentai_rate","N_3rentai_rate",
    "LC_winning_rate","LC_2rentai_rate","LC_3rentai_rate",
    "motor_2rentai_rate","motor_3rentai_rate",
    "boat_2rentai_rate","boat_3rentai_rate",
]

present = [c for c in rate_cols if c in df.columns]
if not present:
    print("[INFO] rate columns not found; skip.")
else:
    # 1) まず float 化（不正値は NaN）
    df[present] = df[present].apply(pd.to_numeric, errors="coerce")

    # 2) NaN を 0.00 に置換（公式の意図に合わせる）
    na_counts_before = df[present].isna().sum()
    total_cells = int(na_counts_before.sum())
    affected_races = sorted(df.loc[df[present].isna().any(axis=1), "race_id"].dropna().unique().tolist())

    if total_cells > 0:
        df[present] = df[present].fillna(0.0)
        print(f"[FIX] rate NaN -> 0.00 : {total_cells} cells  | races={len(affected_races)} -> {affected_races[:10]}{' ...' if len(affected_races)>10 else ''}")
    else:
        print("[INFO] no NaN in rate columns")

    # 3) 簡易チェック
    print("rate dtypes:\n", df[present].dtypes)
    print("remaining NaN counts:\n", df[present].isna().sum().sort_values(ascending=False).head(10))






# ST / ST_tenji を“符号付き秒”に変換、展示はレース内順位も作成（差し替え版）
import numpy as np, re, pandas as pd

def parse_st(s) -> float:
    """
    'F.01' -> -0.01, '0.07' -> +0.07, 'L.03' -> +0.03
    '3  L' -> NaN（= L 単独として扱い、量不明） / '3F.01' -> 'F.01' として解釈
    不正・空欄は NaN
    """
    if s is None:
        return np.nan
    t = str(s).strip()
    if t == "" or t in {"-", "—", "ー", "―"}:
        return np.nan

    # 全角を半角へ（F/L のみ）
    t = t.replace("Ｆ", "F").replace("Ｌ", "L")

    # --- 小さな保険1: 先頭に枠番が紛れた「<digits> [F|L]（.xx 任意）」を末尾の F/L 以降に切り出す
    # 例) "3  L" -> "L" , "3F.01" -> "F.01"
    m = re.match(r"^\d+\s*([FL](?:\.\d+)?)$", t, flags=re.I)
    if m:
        t = m.group(1)  # "L" or "F.01" に正規化

    # 先頭が F/L なら符号を決めて本体を取り出し
    sign = 1.0
    if t[:1].lower() == "f":
        sign = -1.0
        t = t[1:].strip()
    elif t[:1].lower() == "l":
        sign = 1.0
        t = t[1:].strip()

    # --- 小さな保険2: "01" のように小数点がない2桁なら "0.01" に補正
    if re.fullmatch(r"\d{2}", t):
        t = "0." + t

    # 先頭が "." の場合は "0.01" へ
    if t.startswith("."):
        t = "0" + t

    # ここまでで数値部が空（例: "L" 単独）なら NaN
    if t == "":
        return np.nan

    # 数値形式チェック
    if not re.fullmatch(r"\d+(\.\d+)?", t):
        return np.nan

    try:
        val = float(t)
    except ValueError:
        return np.nan
    return sign * val

# 数値化（展示・本番）
if "ST_tenji" in df.columns:
    df["ST_tenji_num"] = df["ST_tenji"].apply(parse_st)

if "ST" in df.columns:
    df["ST_num"] = df["ST"].apply(parse_st)   # ※学習では使わない（将来用）

# レース内順位（展示のみ：小さい=早い → 1位）
if {"race_id","ST_tenji_num"}.issubset(df.columns):
    df["ST_tenji_rank"] = (
        df.groupby("race_id")["ST_tenji_num"]
          .rank(method="min", ascending=True)
          .astype("Int64")
    )

# 動作確認（任意）
print("ST_tenji→num:", list(zip(df.get("ST_tenji", [])[:6], df.get("ST_tenji_num", [])[:6])))
print("ST→num      :", list(zip(df.get("ST", [])[:6],       df.get("ST_num", [])[:6])))






# 1) 変換値を上書き反映
if "ST_tenji_num" in df.columns:
    df["ST_tenji"] = df["ST_tenji_num"].astype(float)

if "ST_num" in df.columns:
    df["ST"] = df["ST_num"].astype(float)

# 2) ヘルパー列だけ片付け（変換値は ST/ST_tenji に残る）
for c in ["ST_tenji_num", "ST_num"]:
    if c in df.columns:
        df.drop(columns=c, inplace=True)

# 3) 確認
print(df[["ST_tenji","ST"]].dtypes)         # → float64, float64
print(df[["ST_tenji","ST"]].isna().sum())   # 欠損数チェック
print("ST_tenji_rank dtype:", df["ST_tenji_rank"].dtype if "ST_tenji_rank" in df.columns else "N/A")






# 展示STが非数値（Lのみ等）を含むレースを丸ごと除外
if "ST_tenji" in df.columns:
    mask_bad = df["ST_tenji"].isna()
    bad_races_sttenji = sorted(df.loc[mask_bad, "race_id"].dropna().unique().tolist())
else:
    bad_races_sttenji = []

before_rows, before_races = len(df), df["race_id"].nunique()
df = df[~df["race_id"].isin(bad_races_sttenji)].copy()
after_rows, after_races = len(df), df["race_id"].nunique()

print(f"[DROP] races with non-numeric ST_tenji: {len(bad_races_sttenji)}")
print(f"[INFO] rows  {before_rows} -> {after_rows}  (removed {before_rows - after_rows})")
print(f"[INFO] races {before_races} -> {after_races})")

# （任意）確認用に何件か表示
if bad_races_sttenji:
    preview = df.loc[df["race_id"].isin(bad_races_sttenji), ["race_id"]].drop_duplicates().head()
    print("[SAMPLE DROPPED race_id]:")
    print(preview.to_string(index=False))






df["is_top2"] = (df["rank"] <= 2).astype("Int64")
df["is_top2"].value_counts(dropna=False)






# 除外レース一覧の保存（差し替え版）— ST展示の非数値ルールを追加
import pandas as pd
from datetime import datetime

REPORTS_DIR = PROJECT_ROOT / "data" / "processed" / "reports"
REPORTS_DIR.mkdir(parents=True, exist_ok=True)

RUN_ID = datetime.now().strftime("%Y%m%d-%H%M%S")

# 安全ガード（変数が未定義でも動くように）
bad_races_rank     = bad_races_rank     if 'bad_races_rank'     in locals() else []
bad_races_wx       = bad_races_wx       if 'bad_races_wx'       in locals() else []
bad_races_sttenji  = bad_races_sttenji  if 'bad_races_sttenji'  in locals() else []

# ① 今回の実行での除外レコード
records = []
records += [("rank_nonnumeric",      rid, "着順が数字でない（失格・転覆等）") for rid in bad_races_rank]
records += [("weather_missing_any",  rid, "気象データに欠損あり")           for rid in bad_races_wx]
records += [("sttenji_nonnumeric",   rid, "展示STに数値化できない表記あり（L等）") for rid in bad_races_sttenji]

df_new = pd.DataFrame(records, columns=["rule_key", "race_id", "reason"])
df_new["race_id"] = df_new["race_id"].astype(str)
df_new["run_id"] = RUN_ID

# A) スナップショット
snap_path = REPORTS_DIR / f"excluded_races_{RUN_ID}.csv"
df_new.to_csv(snap_path, index=False, encoding="utf-8-sig")

# B) 集約（過去分と結合→理由をユニーク結合）
agg_path = REPORTS_DIR / "excluded_races.csv"
if agg_path.exists():
    df_hist = pd.read_csv(agg_path, dtype={"race_id": str}, encoding="utf-8-sig")[["race_id","reason"]]
else:
    df_hist = pd.DataFrame(columns=["race_id","reason"])

df_all = pd.concat([df_hist, df_new[["race_id","reason"]]], ignore_index=True)
df_agg = (
    df_all.groupby("race_id")["reason"]
          .apply(lambda s: " / ".join(sorted(set(s.dropna()))))
          .reset_index()
          .sort_values("race_id")
)
df_agg.to_csv(agg_path, index=False, encoding="utf-8-sig")

print("[OK] 除外レース（スナップショット）:", snap_path)
print("[OK] 除外レース（集約）:", agg_path)
print(df_agg.head(10).to_string(index=False))



df.info()





# 1) レースの整合性
assert len(df) % 6 == 0, "行数が6の倍数ではない"
g = df.groupby("race_id").size()
assert g.min()==6 and g.max()==6, "各レースが6行になっていない"
u = df.groupby("race_id")["wakuban"].nunique()
assert u.min()==6, "各レースの枠番がユニークでない"

# 2) 目的変数＆展示ST
assert df["is_top2"].isna().sum()==0, "is_top2にNaN"
assert df["ST_tenji"].isna().sum()==0, "ST_tenjiにNaN"

# 3) rate系欠損（0.00置換後に残っていないか）
rate_cols = [
    "N_winning_rate","N_2rentai_rate","N_3rentai_rate",
    "LC_winning_rate","LC_2rentai_rate","LC_3rentai_rate",
    "motor_2rentai_rate","motor_3rentai_rate",
    "boat_2rentai_rate","boat_3rentai_rate",
]
assert df[rate_cols].isna().sum().sum()==0, "rate系にNaNが残っています"

print("[OK] quick checks passed.")
print("y balance:", df["is_top2"].value_counts().to_dict())






# 保存（UTF-8-SIGでExcelも安心）
OUT_PATH.parent.mkdir(parents=True, exist_ok=True)
df.to_csv(OUT_PATH, index=False, encoding="utf-8-sig")
print("[OK] wrote:", OUT_PATH, df.shape)




