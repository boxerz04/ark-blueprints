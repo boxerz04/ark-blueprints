# -*- coding: utf-8 -*-
# master.csv（rank, entry, ST を使用）→ 直近n走の率/平均を付与 → master_course.csv

import pandas as pd
import numpy as np

IN_PATH  = r"C:\Users\user\Desktop\Git\ark-blueprints\data\processed\master.csv"
OUT_PATH = r"C:\Users\user\Desktop\Git\ark-blueprints\data\processed\master_course.csv"

# ===== 固定前提の列名 =====
PLAYER_COL = "player_id"
ENTRY_COL  = "entry"           # コース（進入後）
RANK_COL   = "rank"            # 着順（1,2,3,...）
ST_COL     = "ST"              # スタートタイミング
DATE_COL   = "date"
RACE_COL   = "race_id"

# ===== パラメータ =====
N_LAST = 10  # 直近n走

# ---- 読み込み ----
df = pd.read_csv(IN_PATH, parse_dates=[DATE_COL])

# 必須列チェック（厳密）
required = {PLAYER_COL, ENTRY_COL, RANK_COL, ST_COL, DATE_COL, RACE_COL}
missing = [c for c in required if c not in df.columns]
if missing:
    raise ValueError(f"必須列が不足しています: {missing}")



# 時系列ソート（リーク防止の土台）
df = df.sort_values([DATE_COL, RACE_COL]).reset_index(drop=True)

# ちょうど1位/2位/3位のフラグ（以内ではない）
df["exact1_flag"] = (df[RANK_COL] == 1).astype(int)
df["exact2_flag"] = (df[RANK_COL] == 2).astype(int)
df["exact3_flag"] = (df[RANK_COL] == 3).astype(int)


# グループ（選手×entry）
g = df.groupby([PLAYER_COL, ENTRY_COL], sort=False)

# 当該レースを含めないため shift(1)
prev_cols = ["exact1_flag", "exact2_flag", "exact3_flag", ST_COL]
for col in prev_cols:
    df[f"_{col}_prev"] = g[col].shift(1)

def add_lastn_rate(col_key: str, out_key: str, n: int):
    # 直近n走の成功数と分母（有効件数）→ 比率
    wins_n = g[f"_{col_key}_prev"].rolling(n, min_periods=1).sum()
    cnts_n = g[f"_{col_key}_prev"].rolling(n, min_periods=1).count()
    df[f"{out_key}_rate_last{n}_pe"] = (wins_n / cnts_n).reset_index(level=[0,1], drop=True)
    df[f"{out_key}_cnt_last{n}_pe"]  = cnts_n.reset_index(level=[0,1], drop=True)

# 1位/2位/3位の “ちょうど” 率
add_lastn_rate("exact1_flag", "exact1", N_LAST)  # 1着率（exact）
add_lastn_rate("exact2_flag", "exact2", N_LAST)  # 2着率（exact）
add_lastn_rate("exact3_flag", "exact3", N_LAST)  # 3着率（exact）

# ST の直近n走 統計
st_mean = g[f"_{ST_COL}_prev"].rolling(N_LAST, min_periods=1).mean()
st_std  = g[f"_{ST_COL}_prev"].rolling(N_LAST, min_periods=2).std()
df[f"ST_mean_last{N_LAST}_pe"] = st_mean.reset_index(level=[0,1], drop=True)
df[f"ST_std_last{N_LAST}_pe"]  = st_std.reset_index(level=[0,1], drop=True)

# ...（前半はそのまま）...

# 一時列の削除（_prev 系のみ）
df.drop(columns=[f"_{c}_prev" for c in prev_cols], inplace=True)

# 出力
df.to_csv(OUT_PATH, index=False, encoding="utf-8-sig")
print(
    f"[OK] wrote: {OUT_PATH}  rows={len(df):,}  lastN={N_LAST}  "
    f"group=({PLAYER_COL},{ENTRY_COL})  cols_added=[exact1/exact2/exact3]_rate/_cnt, ST_mean/std"
)



df


import pandas as pd
import numpy as np

PLAYER_ID = 4737
ENTRY_C   = 1
N_LAST    = 10

# ① 該当選手×1コースの抽出（rankの照合用）
sub = (df.loc[(df["player_id"]==PLAYER_ID) & (df["entry"]==ENTRY_C),
              ["date","race_id","player_id","entry","rank","ST"]]
         .sort_values(["date","race_id"])
         .reset_index(drop=True))

print("=== 該当選手×1コースの rank 履歴（直近20件）===")
print(sub[["date","race_id","rank"]].tail(20).to_string(index=True))

# ② 直前10走の“exact1/2/3率”をその場で再計算（当該行を除外して集計）
#    → 直近行の値と照合するための簡易チェッカー
def window_rates_lastN(s: pd.Series, n: int) -> float:
    """0/1の系列 s について、直前n件（当該行除外）の平均（=比率）を返す。"""
    s_prev = s.shift(1)                        # 当該行を除外（リーク防止）
    win    = s_prev.rolling(n, min_periods=1).sum()
    cnt    = s_prev.rolling(n, min_periods=1).count()
    return (win / cnt), cnt

# exactフラグ作成（“以内”ではなく ちょうど1/2/3位）
sub["exact1_flag"] = (sub["rank"]==1).astype(int)
sub["exact2_flag"] = (sub["rank"]==2).astype(int)
sub["exact3_flag"] = (sub["rank"]==3).astype(int)

r1, c1 = window_rates_lastN(sub["exact1_flag"], N_LAST)
r2, c2 = window_rates_lastN(sub["exact2_flag"], N_LAST)
r3, c3 = window_rates_lastN(sub["exact3_flag"], N_LAST)

# ③ 直近（最後の行）での手計算値を表示
last_idx = sub.index[-1]
print("\n=== 直近行での手計算（直前10走）===")
print({
    "exact1_rate_last10_manual": float(r1.iloc[last_idx]),
    "exact1_cnt_last10_manual":  int(c1.iloc[last_idx]),
    "exact2_rate_last10_manual": float(r2.iloc[last_idx]),
    "exact2_cnt_last10_manual":  int(c2.iloc[last_idx]),
    "exact3_rate_last10_manual": float(r3.iloc[last_idx]),
    "exact3_cnt_last10_manual":  int(c3.iloc[last_idx]),
})

# ④ もし前処理で作った列が df にあるなら、その値と突き合わせ（差分があれば表示）
cols_made = [
    "exact1_rate_last10_pe","exact1_cnt_last10_pe",
    "exact2_rate_last10_pe","exact2_cnt_last10_pe",
    "exact3_rate_last10_pe","exact3_cnt_last10_pe",
]
has_all = all(c in df.columns for c in cols_made)
if has_all:
    # sub側にも同名列がある想定（なければ join してから比較）
    made = sub.loc[last_idx, cols_made]
    manu = pd.Series({
        "exact1_rate_last10_pe": r1.iloc[last_idx],
        "exact1_cnt_last10_pe":  c1.iloc[last_idx],
        "exact2_rate_last10_pe": r2.iloc[last_idx],
        "exact2_cnt_last10_pe":  c2.iloc[last_idx],
        "exact3_rate_last10_pe": r3.iloc[last_idx],
        "exact3_cnt_last10_pe":  c3.iloc[last_idx],
    })
    diff = (made.astype(float) - manu.astype(float)).abs()
    print("\n=== 直近行の 差分（作成済み列 ー 手計算）===")
    print(diff.to_dict())
else:
    print("\n（注）前処理で作成した *_last10_pe 列がdfに無いので突き合わせはスキップしました。")




