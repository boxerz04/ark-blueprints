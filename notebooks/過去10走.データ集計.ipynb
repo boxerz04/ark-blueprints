{
 "cells": [
  {
   "cell_type": "markdown",
   "id": "5afddb4c-9afe-4c25-be05-1fb586a70fb6",
   "metadata": {},
   "source": [
    "master_course.csvを読み込んで、検証"
   ]
  },
  {
   "cell_type": "code",
   "execution_count": 29,
   "id": "68ae7fd5-4a75-470d-8dcd-692a0b6a96dd",
   "metadata": {},
   "outputs": [],
   "source": [
    "PLAYER = \"2878\""
   ]
  },
  {
   "cell_type": "code",
   "execution_count": 33,
   "id": "2a1a8d86-e76b-4cc3-a2fa-ea8a848dbc99",
   "metadata": {},
   "outputs": [
    {
     "name": "stdout",
     "output_type": "stream",
     "text": [
      "2025-05-26 202505262004 3\n",
      "2025-06-05 202506052401 3\n",
      "2025-06-17 202506171610 5\n",
      "2025-07-23 202507232205 2\n",
      "2025-08-09 202508092411 5\n",
      "2025-08-28 202508281102 3\n",
      "2025-09-13 202509131808 3\n"
     ]
    }
   ],
   "source": [
    "import pandas as pd\n",
    "\n",
    "# 読み込み\n",
    "path = r\"C:\\Users\\user\\Desktop\\Git\\ark-blueprints\\data\\processed\\course\\master_course.csv\"\n",
    "df = pd.read_csv(path, dtype=str, encoding=\"utf-8-sig\")\n",
    "\n",
    "# 日付をdatetime化（失敗はNaT）\n",
    "df[\"date\"] = pd.to_datetime(df.get(\"date\"), errors=\"coerce\")\n",
    "\n",
    "# フィルタ：PLAYER かつ entry=1\n",
    "mask = (df[\"player_id\"].astype(str) == PLAYER) & (pd.to_numeric(df[\"entry\"], errors=\"coerce\") == 5)\n",
    "sub = df.loc[mask, [\"date\", \"race_id\", \"rank\"]].copy()\n",
    "\n",
    "# 日付で昇順に並べ、直近10走を取得\n",
    "sub = sub.sort_values(\"date\").tail(11)\n",
    "\n",
    "# 出力\n",
    "for _, r in sub.iterrows():\n",
    "    d = r[\"date\"].strftime(\"%Y-%m-%d\") if pd.notna(r[\"date\"]) else \"NaT\"\n",
    "    print(d, r[\"race_id\"], r[\"rank\"])\n"
   ]
  },
  {
   "cell_type": "code",
   "execution_count": null,
   "id": "1275734b-e2d0-4f59-a30c-5d4bf81ebf15",
   "metadata": {},
   "outputs": [],
   "source": []
  },
  {
   "cell_type": "code",
   "execution_count": null,
   "id": "6304f443-5c8e-43dc-9f02-33515f0f489f",
   "metadata": {},
   "outputs": [],
   "source": [
    "# -*- coding: utf-8 -*-\n",
    "# master.csv（rank, entry, ST を使用）→ 直近n走の率/平均を付与 → master_course.csv\n",
    "\n",
    "import pandas as pd\n",
    "import numpy as np\n",
    "\n",
    "IN_PATH  = r\"C:\\Users\\user\\Desktop\\Git\\ark-blueprints\\data\\processed\\master.csv\"\n",
    "OUT_PATH = r\"C:\\Users\\user\\Desktop\\Git\\ark-blueprints\\data\\processed\\master_course.csv\"\n",
    "\n",
    "# ===== 固定前提の列名 =====\n",
    "PLAYER_COL = \"player_id\"\n",
    "ENTRY_COL  = \"entry\"           # コース（進入後）\n",
    "RANK_COL   = \"rank\"            # 着順（1,2,3,...）\n",
    "ST_COL     = \"ST\"              # スタートタイミング\n",
    "DATE_COL   = \"date\"\n",
    "RACE_COL   = \"race_id\"\n",
    "\n",
    "# ===== パラメータ =====\n",
    "N_LAST = 10  # 直近n走\n",
    "\n",
    "# ---- 読み込み ----\n",
    "df = pd.read_csv(IN_PATH, parse_dates=[DATE_COL])\n",
    "\n",
    "# 必須列チェック（厳密）\n",
    "required = {PLAYER_COL, ENTRY_COL, RANK_COL, ST_COL, DATE_COL, RACE_COL}\n",
    "missing = [c for c in required if c not in df.columns]\n",
    "if missing:\n",
    "    raise ValueError(f\"必須列が不足しています: {missing}\")\n",
    "# 時系列ソート（リーク防止の土台）\n",
    "df = df.sort_values([DATE_COL, RACE_COL]).reset_index(drop=True)\n",
    "\n",
    "# ちょうど1位/2位/3位のフラグ（以内ではない）\n",
    "df[\"exact1_flag\"] = (df[RANK_COL] == 1).astype(int)\n",
    "df[\"exact2_flag\"] = (df[RANK_COL] == 2).astype(int)\n",
    "df[\"exact3_flag\"] = (df[RANK_COL] == 3).astype(int)\n",
    "# グループ（選手×entry）\n",
    "g = df.groupby([PLAYER_COL, ENTRY_COL], sort=False)\n",
    "\n",
    "# 当該レースを含めないため shift(1)\n",
    "prev_cols = [\"exact1_flag\", \"exact2_flag\", \"exact3_flag\", ST_COL]\n",
    "for col in prev_cols:\n",
    "    df[f\"_{col}_prev\"] = g[col].shift(1)\n",
    "\n",
    "def add_lastn_rate(col_key: str, out_key: str, n: int):\n",
    "    # 直近n走の成功数と分母（有効件数）→ 比率\n",
    "    wins_n = g[f\"_{col_key}_prev\"].rolling(n, min_periods=1).sum()\n",
    "    cnts_n = g[f\"_{col_key}_prev\"].rolling(n, min_periods=1).count()\n",
    "    df[f\"{out_key}_rate_last{n}_pe\"] = (wins_n / cnts_n).reset_index(level=[0,1], drop=True)\n",
    "    df[f\"{out_key}_cnt_last{n}_pe\"]  = cnts_n.reset_index(level=[0,1], drop=True)\n",
    "\n",
    "# 1位/2位/3位の “ちょうど” 率\n",
    "add_lastn_rate(\"exact1_flag\", \"exact1\", N_LAST)  # 1着率（exact）\n",
    "add_lastn_rate(\"exact2_flag\", \"exact2\", N_LAST)  # 2着率（exact）\n",
    "add_lastn_rate(\"exact3_flag\", \"exact3\", N_LAST)  # 3着率（exact）\n",
    "\n",
    "# ST の直近n走 統計\n",
    "st_mean = g[f\"_{ST_COL}_prev\"].rolling(N_LAST, min_periods=1).mean()\n",
    "st_std  = g[f\"_{ST_COL}_prev\"].rolling(N_LAST, min_periods=2).std()\n",
    "df[f\"ST_mean_last{N_LAST}_pe\"] = st_mean.reset_index(level=[0,1], drop=True)\n",
    "df[f\"ST_std_last{N_LAST}_pe\"]  = st_std.reset_index(level=[0,1], drop=True)\n",
    "\n",
    "# ...（前半はそのまま）...\n",
    "\n",
    "# 一時列の削除（_prev 系のみ）\n",
    "df.drop(columns=[f\"_{c}_prev\" for c in prev_cols], inplace=True)\n",
    "\n",
    "# 出力\n",
    "df.to_csv(OUT_PATH, index=False, encoding=\"utf-8-sig\")\n",
    "print(\n",
    "    f\"[OK] wrote: {OUT_PATH}  rows={len(df):,}  lastN={N_LAST}  \"\n",
    "    f\"group=({PLAYER_COL},{ENTRY_COL})  cols_added=[exact1/exact2/exact3]_rate/_cnt, ST_mean/std\"\n",
    ")\n"
   ]
  }
 ],
 "metadata": {
  "kernelspec": {
   "display_name": "Python 3 (ipykernel)",
   "language": "python",
   "name": "python3"
  },
  "language_info": {
   "codemirror_mode": {
    "name": "ipython",
    "version": 3
   },
   "file_extension": ".py",
   "mimetype": "text/x-python",
   "name": "python",
   "nbconvert_exporter": "python",
   "pygments_lexer": "ipython3",
   "version": "3.12.3"
  }
 },
 "nbformat": 4,
 "nbformat_minor": 5
}
