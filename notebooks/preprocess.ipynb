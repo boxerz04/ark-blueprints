{
 "cells": [
  {
   "cell_type": "markdown",
   "id": "1c40ed45-a932-4434-aba3-6058e2ed1d84",
   "metadata": {},
   "source": [
    "# プロジェクトルート固定 & パス定義"
   ]
  },
  {
   "cell_type": "code",
   "execution_count": 2,
   "id": "8b3bc9ce-9291-43b3-bc06-f88deec69c5e",
   "metadata": {},
   "outputs": [
    {
     "name": "stdout",
     "output_type": "stream",
     "text": [
      "PROJECT_ROOT: C:\\Users\\user\\Desktop\\Git\\ark-blueprints\n",
      "RAW_DIR exists?: True\n",
      "OUT_PATH will be: C:\\Users\\user\\Desktop\\Git\\ark-blueprints\\data\\processed\\master.csv\n",
      "AUDIT_DIR will be: C:\\Users\\user\\Desktop\\Git\\ark-blueprints\\data\\processed\\audit\n"
     ]
    }
   ],
   "source": [
    "from pathlib import Path\n",
    "\n",
    "# ★リポジトリの絶対パスを明示（必要に応じてご自身の環境に合わせてください）\n",
    "PROJECT_ROOT = Path(r\"C:\\Users\\user\\Desktop\\Git\\ark-blueprints\")\n",
    "\n",
    "# データ入出力パス（以降のセルはこれを使う）\n",
    "RAW_DIR   = PROJECT_ROOT / \"data\" / \"raw\"\n",
    "OUT_PATH  = PROJECT_ROOT / \"data\" / \"processed\" / \"master.csv\"\n",
    "AUDIT_DIR = PROJECT_ROOT / \"data\" / \"processed\" / \"audit\"\n",
    "\n",
    "# 動作確認（notebooks から実行しても、必ずリポジトリ直下を指す）\n",
    "print(\"PROJECT_ROOT:\", PROJECT_ROOT)\n",
    "print(\"RAW_DIR exists?:\", RAW_DIR.exists())\n",
    "print(\"OUT_PATH will be:\", OUT_PATH)\n",
    "print(\"AUDIT_DIR will be:\", AUDIT_DIR)\n"
   ]
  },
  {
   "cell_type": "markdown",
   "id": "db14749e-8ab0-4de1-bdf5-ff4b36f756b3",
   "metadata": {},
   "source": [
    "# ファイル一覧取得"
   ]
  },
  {
   "cell_type": "code",
   "execution_count": 4,
   "id": "18b879eb-992d-49ad-a6ce-5007be26112f",
   "metadata": {},
   "outputs": [
    {
     "data": {
      "text/plain": [
       "(7,\n",
       " [WindowsPath('C:/Users/user/Desktop/Git/ark-blueprints/data/raw/20250827_raw.csv'),\n",
       "  WindowsPath('C:/Users/user/Desktop/Git/ark-blueprints/data/raw/20250828_raw.csv'),\n",
       "  WindowsPath('C:/Users/user/Desktop/Git/ark-blueprints/data/raw/20250829_raw.csv'),\n",
       "  WindowsPath('C:/Users/user/Desktop/Git/ark-blueprints/data/raw/20250830_raw.csv'),\n",
       "  WindowsPath('C:/Users/user/Desktop/Git/ark-blueprints/data/raw/20250831_raw.csv'),\n",
       "  WindowsPath('C:/Users/user/Desktop/Git/ark-blueprints/data/raw/20250901_raw.csv'),\n",
       "  WindowsPath('C:/Users/user/Desktop/Git/ark-blueprints/data/raw/20250902_raw.csv')])"
      ]
     },
     "execution_count": 4,
     "metadata": {},
     "output_type": "execute_result"
    }
   ],
   "source": [
    "import pandas as pd\n",
    "\n",
    "files = sorted(RAW_DIR.glob(\"*.csv\"))\n",
    "len(files), files[:]\n"
   ]
  },
  {
   "cell_type": "markdown",
   "id": "3ab3d46d-a9a3-46a8-8fa4-acc37d7fde6e",
   "metadata": {},
   "source": [
    "# 全ファイルを“壊さず”読み込み（UTF-8-SIG, 全列文字列）"
   ]
  },
  {
   "cell_type": "code",
   "execution_count": 6,
   "id": "e2684293-cf5a-4984-98c2-0c58ae9134d8",
   "metadata": {},
   "outputs": [
    {
     "data": {
      "text/plain": [
       "((5958, 65),\n",
       " ['player_id',\n",
       "  'AB_class',\n",
       "  'age',\n",
       "  'weight',\n",
       "  'team',\n",
       "  'origin',\n",
       "  'run_once',\n",
       "  'F',\n",
       "  'L',\n",
       "  'ST_mean',\n",
       "  'N_winning_rate',\n",
       "  'N_2rentai_rate',\n",
       "  'N_3rentai_rate',\n",
       "  'LC_winning_rate',\n",
       "  'LC_2rentai_rate'])"
      ]
     },
     "execution_count": 6,
     "metadata": {},
     "output_type": "execute_result"
    }
   ],
   "source": [
    "frames = []\n",
    "for p in files:\n",
    "    dfi = pd.read_csv(\n",
    "        p, encoding=\"utf-8-sig\",\n",
    "        dtype=str, keep_default_na=False,  # まずは現物優先\n",
    "        engine=\"python\"\n",
    "    )\n",
    "    dfi[\"__source_file\"] = p.name  # デバッグ用（最終出力には残ってもOK）\n",
    "    frames.append(dfi)\n",
    "\n",
    "raw = pd.concat(frames, ignore_index=True, sort=False)\n",
    "raw.shape, list(raw.columns)[:15]\n"
   ]
  },
  {
   "cell_type": "markdown",
   "id": "a87a4d5d-0090-4998-aa52-a06052a69f0e",
   "metadata": {},
   "source": [
    "# 作業用 df 作成 & 日付型"
   ]
  },
  {
   "cell_type": "code",
   "execution_count": 8,
   "id": "b94846ec-3fd0-4b74-89ec-c9d69352837b",
   "metadata": {},
   "outputs": [],
   "source": [
    "df = raw.copy()\n",
    "\n",
    "# date は YYYYMMDD が基本の想定（合わない値は NaT）\n",
    "if \"date\" in df.columns:\n",
    "    try:\n",
    "        df[\"date\"] = pd.to_datetime(df[\"date\"], format=\"%Y%m%d\", errors=\"coerce\")\n",
    "    except Exception:\n",
    "        df[\"date\"] = pd.to_datetime(df[\"date\"], errors=\"coerce\")\n"
   ]
  },
  {
   "cell_type": "code",
   "execution_count": 9,
   "id": "69189b51-7566-4107-83e6-027009cf92c1",
   "metadata": {},
   "outputs": [
    {
     "name": "stdout",
     "output_type": "stream",
     "text": [
      "<class 'pandas.core.frame.DataFrame'>\n",
      "RangeIndex: 5958 entries, 0 to 5957\n",
      "Data columns (total 65 columns):\n",
      " #   Column              Non-Null Count  Dtype         \n",
      "---  ------              --------------  -----         \n",
      " 0   player_id           5958 non-null   object        \n",
      " 1   AB_class            5958 non-null   object        \n",
      " 2   age                 5958 non-null   object        \n",
      " 3   weight              5958 non-null   object        \n",
      " 4   team                5958 non-null   object        \n",
      " 5   origin              5958 non-null   object        \n",
      " 6   run_once            5958 non-null   object        \n",
      " 7   F                   5958 non-null   object        \n",
      " 8   L                   5958 non-null   object        \n",
      " 9   ST_mean             5958 non-null   object        \n",
      " 10  N_winning_rate      5958 non-null   object        \n",
      " 11  N_2rentai_rate      5958 non-null   object        \n",
      " 12  N_3rentai_rate      5958 non-null   object        \n",
      " 13  LC_winning_rate     5958 non-null   object        \n",
      " 14  LC_2rentai_rate     5958 non-null   object        \n",
      " 15  LC_3rentai_rate     5958 non-null   object        \n",
      " 16  motor_number        5958 non-null   object        \n",
      " 17  motor_2rentai_rate  5958 non-null   object        \n",
      " 18  motor_3rentai_rate  5958 non-null   object        \n",
      " 19  boat_number         5958 non-null   object        \n",
      " 20  boat_2rentai_rate   5958 non-null   object        \n",
      " 21  boat_3rentai_rate   5958 non-null   object        \n",
      " 22  pred_mark           5958 non-null   object        \n",
      " 23  race_name           5958 non-null   object        \n",
      " 24  precondition_1      5958 non-null   object        \n",
      " 25  precondition_2      5958 non-null   object        \n",
      " 26  race_id             5958 non-null   object        \n",
      " 27  date                5958 non-null   datetime64[ns]\n",
      " 28  code                5958 non-null   object        \n",
      " 29  R                   5958 non-null   object        \n",
      " 30  timetable           5958 non-null   object        \n",
      " 31  entry_tenji         5958 non-null   object        \n",
      " 32  ST_tenji            5958 non-null   object        \n",
      " 33  counter_weight      5958 non-null   object        \n",
      " 34  time_tenji          5958 non-null   object        \n",
      " 35  Tilt                5958 non-null   object        \n",
      " 36  propeller           5958 non-null   object        \n",
      " 37  parts_exchange      5958 non-null   object        \n",
      " 38  temperature         5958 non-null   object        \n",
      " 39  weather             5958 non-null   object        \n",
      " 40  wind_speed          5958 non-null   object        \n",
      " 41  wind_direction      5958 non-null   object        \n",
      " 42  water_temperature   5958 non-null   object        \n",
      " 43  wave_height         5958 non-null   object        \n",
      " 44  winning_trick       5958 non-null   object        \n",
      " 45  henkan_ticket       5958 non-null   object        \n",
      " 46  remarks             5958 non-null   object        \n",
      " 47  rank                5958 non-null   object        \n",
      " 48  wakuban             5958 non-null   object        \n",
      " 49  player              5958 non-null   object        \n",
      " 50  entry               5958 non-null   object        \n",
      " 51  ST                  5958 non-null   object        \n",
      " 52  ST_rank             5958 non-null   object        \n",
      " 53  sex                 5958 non-null   object        \n",
      " 54  place               5958 non-null   object        \n",
      " 55  race_grade          5958 non-null   object        \n",
      " 56  race_type           5958 non-null   object        \n",
      " 57  race_attribute      5958 non-null   object        \n",
      " 58  title               5958 non-null   object        \n",
      " 59  day                 5958 non-null   object        \n",
      " 60  section             5958 non-null   object        \n",
      " 61  schedule            5958 non-null   object        \n",
      " 62  is_wakunari         5958 non-null   object        \n",
      " 63  section_id          5958 non-null   object        \n",
      " 64  __source_file       5958 non-null   object        \n",
      "dtypes: datetime64[ns](1), object(64)\n",
      "memory usage: 3.0+ MB\n"
     ]
    }
   ],
   "source": [
    "df.info()"
   ]
  },
  {
   "cell_type": "markdown",
   "id": "12f07e1f-9fc8-4225-bb4f-49c61dd893b8",
   "metadata": {},
   "source": [
    "# 全角→半角（数字・小数点・マイナス）→ 型変換（最小）"
   ]
  },
  {
   "cell_type": "code",
   "execution_count": 11,
   "id": "e4fa26a9-4517-4886-bd7f-8731017c3ea5",
   "metadata": {
    "scrolled": true
   },
   "outputs": [
    {
     "data": {
      "text/plain": [
       "{'rank': {'target': 'int', 'n': 5958, 'n_nan': 79},\n",
       " 'player_id': {'target': 'int', 'n': 5958, 'n_nan': 0},\n",
       " 'age': {'target': 'int', 'n': 5958, 'n_nan': 0},\n",
       " 'run_once': {'target': 'int', 'n': 5958, 'n_nan': 0},\n",
       " 'F': {'target': 'int', 'n': 5958, 'n_nan': 0},\n",
       " 'L': {'target': 'int', 'n': 5958, 'n_nan': 0},\n",
       " 'motor_number': {'target': 'int', 'n': 5958, 'n_nan': 0},\n",
       " 'boat_number': {'target': 'int', 'n': 5958, 'n_nan': 0},\n",
       " 'pred_mark': {'target': 'int', 'n': 5958, 'n_nan': 0},\n",
       " 'code': {'target': 'int', 'n': 5958, 'n_nan': 0},\n",
       " 'R': {'target': 'int', 'n': 5958, 'n_nan': 0},\n",
       " 'entry_tenji': {'target': 'int', 'n': 5958, 'n_nan': 8},\n",
       " 'wakuban': {'target': 'int', 'n': 5958, 'n_nan': 0},\n",
       " 'entry': {'target': 'int', 'n': 5958, 'n_nan': 8},\n",
       " 'ST_rank': {'target': 'int', 'n': 5958, 'n_nan': 35},\n",
       " 'day': {'target': 'int', 'n': 5958, 'n_nan': 0},\n",
       " 'section': {'target': 'int', 'n': 5958, 'n_nan': 0},\n",
       " 'is_wakunari': {'target': 'int', 'n': 5958, 'n_nan': 0},\n",
       " 'weight': {'target': 'float', 'n': 5958, 'n_nan': 0},\n",
       " 'ST_mean': {'target': 'float', 'n': 5958, 'n_nan': 0},\n",
       " 'temperature': {'target': 'float', 'n': 5958, 'n_nan': 6},\n",
       " 'wind_speed': {'target': 'float', 'n': 5958, 'n_nan': 6},\n",
       " 'water_temperature': {'target': 'float', 'n': 5958, 'n_nan': 6},\n",
       " 'wave_height': {'target': 'float', 'n': 5958, 'n_nan': 6},\n",
       " 'time_tenji': {'target': 'float', 'n': 5958, 'n_nan': 8},\n",
       " 'Tilt': {'target': 'float', 'n': 5958, 'n_nan': 8}}"
      ]
     },
     "execution_count": 11,
     "metadata": {},
     "output_type": "execute_result"
    }
   ],
   "source": [
    "import pandas as pd\n",
    "\n",
    "# 全角→半角（数字・小数点・マイナスのみ）\n",
    "ZEN2HAN = str.maketrans(\"０１２３４５６７８９．－\", \"0123456789.-\")\n",
    "\n",
    "def normalize_zenkaku_digits(s: pd.Series) -> pd.Series:\n",
    "    if s.dtype != object:\n",
    "        return s\n",
    "    return s.str.translate(ZEN2HAN)\n",
    "\n",
    "# 4a) rank を最優先で正規化→数値化（今回の肝）\n",
    "converted_report = {}\n",
    "if \"rank\" in df.columns:\n",
    "    df[\"rank\"] = normalize_zenkaku_digits(df[\"rank\"].astype(str))\n",
    "    out = pd.to_numeric(df[\"rank\"], errors=\"coerce\").astype(\"Int64\")\n",
    "    converted_report[\"rank\"] = {\"target\": \"int\", \"n\": int(len(out)), \"n_nan\": int(out.isna().sum())}\n",
    "    df[\"rank\"] = out\n",
    "\n",
    "# 4b) ほかにも全角数字が紛れやすい列だけ軽く正規化\n",
    "maybe_zen_cols = [c for c in [\"wakuban\",\"R\",\"entry\",\"entry_tenji\",\"ST_rank\",\"day\",\"section\",\"code\"] if c in df.columns]\n",
    "for c in maybe_zen_cols:\n",
    "    if df[c].dtype == object:\n",
    "        df[c] = normalize_zenkaku_digits(df[c].astype(str))\n",
    "\n",
    "# 4c) “素直に”型変換（ST/ ST_tenji は触らない）\n",
    "to_int = [\n",
    "    \"player_id\",\"age\",\"run_once\",\"F\",\"L\",\n",
    "    \"motor_number\",\"boat_number\",\"pred_mark\",\"code\",\"R\",\n",
    "    \"entry_tenji\",\"wakuban\",\"entry\",\"ST_rank\",\n",
    "    \"day\",\"section\",\"is_wakunari\",\n",
    "]\n",
    "to_float = [\n",
    "    \"weight\",\"ST_mean\",\n",
    "    \"temperature\",\"wind_speed\",\"water_temperature\",\"wave_height\",\n",
    "    \"time_tenji\",\"Tilt\",\n",
    "]\n",
    "\n",
    "for c in to_int:\n",
    "    if c in df.columns:\n",
    "        out = pd.to_numeric(df[c], errors=\"coerce\").astype(\"Int64\")\n",
    "        converted_report[c] = {\"target\": \"int\", \"n\": int(len(out)), \"n_nan\": int(out.isna().sum())}\n",
    "        df[c] = out\n",
    "\n",
    "for c in to_float:\n",
    "    if c in df.columns:\n",
    "        out = pd.to_numeric(df[c], errors=\"coerce\")\n",
    "        converted_report[c] = {\"target\": \"float\", \"n\": int(len(out)), \"n_nan\": int(out.isna().sum())}\n",
    "        df[c] = out\n",
    "\n",
    "converted_report\n"
   ]
  },
  {
   "cell_type": "markdown",
   "id": "e3f45530-973d-4a0f-aff5-a7e54843864f",
   "metadata": {},
   "source": [
    "# rank 非数値（=NaN）を含むレースを race_id 単位で除外"
   ]
  },
  {
   "cell_type": "code",
   "execution_count": 13,
   "id": "77a74aa4-59e2-4f23-b0ec-b8bb2cdb90f8",
   "metadata": {},
   "outputs": [
    {
     "name": "stdout",
     "output_type": "stream",
     "text": [
      "[DROP] rank-nonnumeric races: 64\n",
      "[INFO] rows  5958 -> 5574  (removed 384)\n",
      "[INFO] races 993 -> 929\n"
     ]
    }
   ],
   "source": [
    "if \"race_id\" not in df.columns:\n",
    "    raise ValueError(\"race_id 列が必要です。\")\n",
    "\n",
    "bad_races_rank = sorted(df.loc[df[\"rank\"].isna(), \"race_id\"].dropna().unique().tolist())\n",
    "\n",
    "before_rows, before_races = len(df), df[\"race_id\"].nunique()\n",
    "df = df[~df[\"race_id\"].isin(bad_races_rank)].copy()\n",
    "after_rows, after_races = len(df), df[\"race_id\"].nunique()\n",
    "\n",
    "print(f\"[DROP] rank-nonnumeric races: {len(bad_races_rank)}\")\n",
    "print(f\"[INFO] rows  {before_rows} -> {after_rows}  (removed {before_rows - after_rows})\")\n",
    "print(f\"[INFO] races {before_races} -> {after_races}\")\n"
   ]
  },
  {
   "cell_type": "markdown",
   "id": "e1ca15fd-666d-4218-993b-0f9d1151a2a1",
   "metadata": {},
   "source": [
    "# 気象関連に欠損が1つでもあるレースを除外"
   ]
  },
  {
   "cell_type": "code",
   "execution_count": 15,
   "id": "5849e95a-223c-4a5a-b64e-bbcd7d8faeae",
   "metadata": {},
   "outputs": [
    {
     "name": "stdout",
     "output_type": "stream",
     "text": [
      "[DROP] weather-missing races: 1\n",
      "[INFO] rows  5574 -> 5568  (removed 6)\n",
      "[INFO] races 929 -> 928\n"
     ]
    }
   ],
   "source": [
    "wx_cols = [c for c in [\"temperature\",\"wind_speed\",\"water_temperature\",\"wave_height\",\"weather\",\"wind_direction\"] if c in df.columns]\n",
    "\n",
    "if wx_cols:\n",
    "    mask_any_na = df[wx_cols].isna().any(axis=1)\n",
    "    bad_races_wx = sorted(df.loc[mask_any_na, \"race_id\"].dropna().unique().tolist())\n",
    "else:\n",
    "    bad_races_wx = []\n",
    "\n",
    "before_rows2, before_races2 = len(df), df[\"race_id\"].nunique()\n",
    "df = df[~df[\"race_id\"].isin(bad_races_wx)].copy()\n",
    "after_rows2, after_races2 = len(df), df[\"race_id\"].nunique()\n",
    "\n",
    "print(f\"[DROP] weather-missing races: {len(bad_races_wx)}\")\n",
    "print(f\"[INFO] rows  {before_rows2} -> {after_rows2}  (removed {before_rows2 - after_rows2})\")\n",
    "print(f\"[INFO] races {before_races2} -> {after_races2}\")\n"
   ]
  },
  {
   "cell_type": "markdown",
   "id": "fc0e54c3-3efb-4805-8c1d-9f7780d45c3e",
   "metadata": {},
   "source": [
    "# rate 系を float 化（0–100のまま）"
   ]
  },
  {
   "cell_type": "code",
   "execution_count": 17,
   "id": "83643f94-c71d-4f1e-9eb0-172cad781cc3",
   "metadata": {},
   "outputs": [
    {
     "name": "stdout",
     "output_type": "stream",
     "text": [
      "[FIX] rate NaN -> 0.00 : 294 cells  | races=88 -> ['202508270901', '202508270910', '202508271001', '202508271003', '202508271009', '202508271104', '202508271109', '202508271601', '202508271602', '202508271608'] ...\n",
      "rate dtypes:\n",
      " N_winning_rate        float64\n",
      "N_2rentai_rate        float64\n",
      "N_3rentai_rate        float64\n",
      "LC_winning_rate       float64\n",
      "LC_2rentai_rate       float64\n",
      "LC_3rentai_rate       float64\n",
      "motor_2rentai_rate    float64\n",
      "motor_3rentai_rate    float64\n",
      "boat_2rentai_rate     float64\n",
      "boat_3rentai_rate     float64\n",
      "dtype: object\n",
      "remaining NaN counts:\n",
      " N_winning_rate        0\n",
      "N_2rentai_rate        0\n",
      "N_3rentai_rate        0\n",
      "LC_winning_rate       0\n",
      "LC_2rentai_rate       0\n",
      "LC_3rentai_rate       0\n",
      "motor_2rentai_rate    0\n",
      "motor_3rentai_rate    0\n",
      "boat_2rentai_rate     0\n",
      "boat_3rentai_rate     0\n",
      "dtype: int64\n"
     ]
    }
   ],
   "source": [
    "# rate全列を float 化＋NaNは0.00に置換\n",
    "import pandas as pd\n",
    "\n",
    "rate_cols = [\n",
    "    \"N_winning_rate\",\"N_2rentai_rate\",\"N_3rentai_rate\",\n",
    "    \"LC_winning_rate\",\"LC_2rentai_rate\",\"LC_3rentai_rate\",\n",
    "    \"motor_2rentai_rate\",\"motor_3rentai_rate\",\n",
    "    \"boat_2rentai_rate\",\"boat_3rentai_rate\",\n",
    "]\n",
    "\n",
    "present = [c for c in rate_cols if c in df.columns]\n",
    "if not present:\n",
    "    print(\"[INFO] rate columns not found; skip.\")\n",
    "else:\n",
    "    # 1) まず float 化（不正値は NaN）\n",
    "    df[present] = df[present].apply(pd.to_numeric, errors=\"coerce\")\n",
    "\n",
    "    # 2) NaN を 0.00 に置換（公式の意図に合わせる）\n",
    "    na_counts_before = df[present].isna().sum()\n",
    "    total_cells = int(na_counts_before.sum())\n",
    "    affected_races = sorted(df.loc[df[present].isna().any(axis=1), \"race_id\"].dropna().unique().tolist())\n",
    "\n",
    "    if total_cells > 0:\n",
    "        df[present] = df[present].fillna(0.0)\n",
    "        print(f\"[FIX] rate NaN -> 0.00 : {total_cells} cells  | races={len(affected_races)} -> {affected_races[:10]}{' ...' if len(affected_races)>10 else ''}\")\n",
    "    else:\n",
    "        print(\"[INFO] no NaN in rate columns\")\n",
    "\n",
    "    # 3) 簡易チェック\n",
    "    print(\"rate dtypes:\\n\", df[present].dtypes)\n",
    "    print(\"remaining NaN counts:\\n\", df[present].isna().sum().sort_values(ascending=False).head(10))\n"
   ]
  },
  {
   "cell_type": "markdown",
   "id": "981a2dce-ce06-41b4-861c-9ef1bd9e4363",
   "metadata": {},
   "source": [
    "# ST / ST_tenji を“符号付き秒”に変換"
   ]
  },
  {
   "cell_type": "code",
   "execution_count": 19,
   "id": "5c188254-9317-4998-b7cf-6c218a719dd9",
   "metadata": {},
   "outputs": [
    {
     "name": "stdout",
     "output_type": "stream",
     "text": [
      "ST_tenji→num: [(' .04', 0.04), ('F.01', -0.01), (' .07', 0.07), (' .03', 0.03), (' .02', 0.02), ('F.02', -0.02)]\n",
      "ST→num      : [('0.18', 0.18), ('0.18', 0.18), ('0.17', 0.17), ('0.22', 0.22), ('0.23', 0.23), ('0.19', 0.19)]\n"
     ]
    }
   ],
   "source": [
    "# ST / ST_tenji を“符号付き秒”に変換、展示はレース内順位も作成（差し替え版）\n",
    "import numpy as np, re, pandas as pd\n",
    "\n",
    "def parse_st(s) -> float:\n",
    "    \"\"\"\n",
    "    'F.01' -> -0.01, '0.07' -> +0.07, 'L.03' -> +0.03\n",
    "    '3  L' -> NaN（= L 単独として扱い、量不明） / '3F.01' -> 'F.01' として解釈\n",
    "    不正・空欄は NaN\n",
    "    \"\"\"\n",
    "    if s is None:\n",
    "        return np.nan\n",
    "    t = str(s).strip()\n",
    "    if t == \"\" or t in {\"-\", \"—\", \"ー\", \"―\"}:\n",
    "        return np.nan\n",
    "\n",
    "    # 全角を半角へ（F/L のみ）\n",
    "    t = t.replace(\"Ｆ\", \"F\").replace(\"Ｌ\", \"L\")\n",
    "\n",
    "    # --- 小さな保険1: 先頭に枠番が紛れた「<digits> [F|L]（.xx 任意）」を末尾の F/L 以降に切り出す\n",
    "    # 例) \"3  L\" -> \"L\" , \"3F.01\" -> \"F.01\"\n",
    "    m = re.match(r\"^\\d+\\s*([FL](?:\\.\\d+)?)$\", t, flags=re.I)\n",
    "    if m:\n",
    "        t = m.group(1)  # \"L\" or \"F.01\" に正規化\n",
    "\n",
    "    # 先頭が F/L なら符号を決めて本体を取り出し\n",
    "    sign = 1.0\n",
    "    if t[:1].lower() == \"f\":\n",
    "        sign = -1.0\n",
    "        t = t[1:].strip()\n",
    "    elif t[:1].lower() == \"l\":\n",
    "        sign = 1.0\n",
    "        t = t[1:].strip()\n",
    "\n",
    "    # --- 小さな保険2: \"01\" のように小数点がない2桁なら \"0.01\" に補正\n",
    "    if re.fullmatch(r\"\\d{2}\", t):\n",
    "        t = \"0.\" + t\n",
    "\n",
    "    # 先頭が \".\" の場合は \"0.01\" へ\n",
    "    if t.startswith(\".\"):\n",
    "        t = \"0\" + t\n",
    "\n",
    "    # ここまでで数値部が空（例: \"L\" 単独）なら NaN\n",
    "    if t == \"\":\n",
    "        return np.nan\n",
    "\n",
    "    # 数値形式チェック\n",
    "    if not re.fullmatch(r\"\\d+(\\.\\d+)?\", t):\n",
    "        return np.nan\n",
    "\n",
    "    try:\n",
    "        val = float(t)\n",
    "    except ValueError:\n",
    "        return np.nan\n",
    "    return sign * val\n",
    "\n",
    "# 数値化（展示・本番）\n",
    "if \"ST_tenji\" in df.columns:\n",
    "    df[\"ST_tenji_num\"] = df[\"ST_tenji\"].apply(parse_st)\n",
    "\n",
    "if \"ST\" in df.columns:\n",
    "    df[\"ST_num\"] = df[\"ST\"].apply(parse_st)   # ※学習では使わない（将来用）\n",
    "\n",
    "# レース内順位（展示のみ：小さい=早い → 1位）\n",
    "if {\"race_id\",\"ST_tenji_num\"}.issubset(df.columns):\n",
    "    df[\"ST_tenji_rank\"] = (\n",
    "        df.groupby(\"race_id\")[\"ST_tenji_num\"]\n",
    "          .rank(method=\"min\", ascending=True)\n",
    "          .astype(\"Int64\")\n",
    "    )\n",
    "\n",
    "# 動作確認（任意）\n",
    "print(\"ST_tenji→num:\", list(zip(df.get(\"ST_tenji\", [])[:6], df.get(\"ST_tenji_num\", [])[:6])))\n",
    "print(\"ST→num      :\", list(zip(df.get(\"ST\", [])[:6],       df.get(\"ST_num\", [])[:6])))\n"
   ]
  },
  {
   "cell_type": "markdown",
   "id": "15bd50e6-efbd-424e-934f-bf1d097603b3",
   "metadata": {},
   "source": [
    "# ST/ST_tenji を正式カラムとして float 化"
   ]
  },
  {
   "cell_type": "code",
   "execution_count": 21,
   "id": "a6eac665-f12a-45e3-ac20-1794ad2681f1",
   "metadata": {},
   "outputs": [
    {
     "name": "stdout",
     "output_type": "stream",
     "text": [
      "ST_tenji    float64\n",
      "ST          float64\n",
      "dtype: object\n",
      "ST_tenji    1\n",
      "ST          0\n",
      "dtype: int64\n",
      "ST_tenji_rank dtype: Int64\n"
     ]
    }
   ],
   "source": [
    "# 1) 変換値を上書き反映\n",
    "if \"ST_tenji_num\" in df.columns:\n",
    "    df[\"ST_tenji\"] = df[\"ST_tenji_num\"].astype(float)\n",
    "\n",
    "if \"ST_num\" in df.columns:\n",
    "    df[\"ST\"] = df[\"ST_num\"].astype(float)\n",
    "\n",
    "# 2) ヘルパー列だけ片付け（変換値は ST/ST_tenji に残る）\n",
    "for c in [\"ST_tenji_num\", \"ST_num\"]:\n",
    "    if c in df.columns:\n",
    "        df.drop(columns=c, inplace=True)\n",
    "\n",
    "# 3) 確認\n",
    "print(df[[\"ST_tenji\",\"ST\"]].dtypes)         # → float64, float64\n",
    "print(df[[\"ST_tenji\",\"ST\"]].isna().sum())   # 欠損数チェック\n",
    "print(\"ST_tenji_rank dtype:\", df[\"ST_tenji_rank\"].dtype if \"ST_tenji_rank\" in df.columns else \"N/A\")\n"
   ]
  },
  {
   "cell_type": "markdown",
   "id": "fd230315-dbd3-4f2d-9353-f8e1c425468d",
   "metadata": {},
   "source": [
    "# 展示STに非数値があればレースごと除外"
   ]
  },
  {
   "cell_type": "code",
   "execution_count": 23,
   "id": "ac640584-0a4c-45ac-b1ea-376a1b4baffe",
   "metadata": {},
   "outputs": [
    {
     "name": "stdout",
     "output_type": "stream",
     "text": [
      "[DROP] races with non-numeric ST_tenji: 1\n",
      "[INFO] rows  5568 -> 5562  (removed 6)\n",
      "[INFO] races 928 -> 927)\n",
      "[SAMPLE DROPPED race_id]:\n",
      "Empty DataFrame\n",
      "Columns: [race_id]\n",
      "Index: []\n"
     ]
    }
   ],
   "source": [
    "# 展示STが非数値（Lのみ等）を含むレースを丸ごと除外\n",
    "if \"ST_tenji\" in df.columns:\n",
    "    mask_bad = df[\"ST_tenji\"].isna()\n",
    "    bad_races_sttenji = sorted(df.loc[mask_bad, \"race_id\"].dropna().unique().tolist())\n",
    "else:\n",
    "    bad_races_sttenji = []\n",
    "\n",
    "before_rows, before_races = len(df), df[\"race_id\"].nunique()\n",
    "df = df[~df[\"race_id\"].isin(bad_races_sttenji)].copy()\n",
    "after_rows, after_races = len(df), df[\"race_id\"].nunique()\n",
    "\n",
    "print(f\"[DROP] races with non-numeric ST_tenji: {len(bad_races_sttenji)}\")\n",
    "print(f\"[INFO] rows  {before_rows} -> {after_rows}  (removed {before_rows - after_rows})\")\n",
    "print(f\"[INFO] races {before_races} -> {after_races})\")\n",
    "\n",
    "# （任意）確認用に何件か表示\n",
    "if bad_races_sttenji:\n",
    "    preview = df.loc[df[\"race_id\"].isin(bad_races_sttenji), [\"race_id\"]].drop_duplicates().head()\n",
    "    print(\"[SAMPLE DROPPED race_id]:\")\n",
    "    print(preview.to_string(index=False))\n"
   ]
  },
  {
   "cell_type": "markdown",
   "id": "f94a1d7c-8d6c-4d30-9da1-30078003d9e3",
   "metadata": {},
   "source": [
    "# 目的変数 is_top2 の作成（正常レースのみ）"
   ]
  },
  {
   "cell_type": "code",
   "execution_count": 26,
   "id": "6381a59f-58a5-46a5-ab69-d232b7ec8f90",
   "metadata": {
    "scrolled": true
   },
   "outputs": [
    {
     "data": {
      "text/plain": [
       "is_top2\n",
       "0    3708\n",
       "1    1854\n",
       "Name: count, dtype: Int64"
      ]
     },
     "execution_count": 26,
     "metadata": {},
     "output_type": "execute_result"
    }
   ],
   "source": [
    "df[\"is_top2\"] = (df[\"rank\"] <= 2).astype(\"Int64\")\n",
    "df[\"is_top2\"].value_counts(dropna=False)\n"
   ]
  },
  {
   "cell_type": "markdown",
   "id": "68526e1a-7582-4491-a179-288fe147e60f",
   "metadata": {},
   "source": [
    "# 除外レース一覧の保存"
   ]
  },
  {
   "cell_type": "code",
   "execution_count": 28,
   "id": "42eca5e4-0b66-46c3-8a17-452e503c11b7",
   "metadata": {},
   "outputs": [
    {
     "name": "stdout",
     "output_type": "stream",
     "text": [
      "[OK] 除外レース（スナップショット）: C:\\Users\\user\\Desktop\\Git\\ark-blueprints\\data\\processed\\reports\\excluded_races_20250903-103048.csv\n",
      "[OK] 除外レース（集約）: C:\\Users\\user\\Desktop\\Git\\ark-blueprints\\data\\processed\\reports\\excluded_races.csv\n",
      "     race_id           reason\n",
      "202508270106 着順が数字でない（失格・転覆等）\n",
      "202508270507 着順が数字でない（失格・転覆等）\n",
      "202508270510 着順が数字でない（失格・転覆等）\n",
      "202508270512 着順が数字でない（失格・転覆等）\n",
      "202508271101       気象データに欠損あり\n",
      "202508271206 着順が数字でない（失格・転覆等）\n",
      "202508271710 着順が数字でない（失格・転覆等）\n",
      "202508272005 着順が数字でない（失格・転覆等）\n",
      "202508272009 着順が数字でない（失格・転覆等）\n",
      "202508280106 着順が数字でない（失格・転覆等）\n"
     ]
    }
   ],
   "source": [
    "# 除外レース一覧の保存（差し替え版）— ST展示の非数値ルールを追加\n",
    "import pandas as pd\n",
    "from datetime import datetime\n",
    "\n",
    "REPORTS_DIR = PROJECT_ROOT / \"data\" / \"processed\" / \"reports\"\n",
    "REPORTS_DIR.mkdir(parents=True, exist_ok=True)\n",
    "\n",
    "RUN_ID = datetime.now().strftime(\"%Y%m%d-%H%M%S\")\n",
    "\n",
    "# 安全ガード（変数が未定義でも動くように）\n",
    "bad_races_rank     = bad_races_rank     if 'bad_races_rank'     in locals() else []\n",
    "bad_races_wx       = bad_races_wx       if 'bad_races_wx'       in locals() else []\n",
    "bad_races_sttenji  = bad_races_sttenji  if 'bad_races_sttenji'  in locals() else []\n",
    "\n",
    "# ① 今回の実行での除外レコード\n",
    "records = []\n",
    "records += [(\"rank_nonnumeric\",      rid, \"着順が数字でない（失格・転覆等）\") for rid in bad_races_rank]\n",
    "records += [(\"weather_missing_any\",  rid, \"気象データに欠損あり\")           for rid in bad_races_wx]\n",
    "records += [(\"sttenji_nonnumeric\",   rid, \"展示STに数値化できない表記あり（L等）\") for rid in bad_races_sttenji]\n",
    "\n",
    "df_new = pd.DataFrame(records, columns=[\"rule_key\", \"race_id\", \"reason\"])\n",
    "df_new[\"race_id\"] = df_new[\"race_id\"].astype(str)\n",
    "df_new[\"run_id\"] = RUN_ID\n",
    "\n",
    "# A) スナップショット\n",
    "snap_path = REPORTS_DIR / f\"excluded_races_{RUN_ID}.csv\"\n",
    "df_new.to_csv(snap_path, index=False, encoding=\"utf-8-sig\")\n",
    "\n",
    "# B) 集約（過去分と結合→理由をユニーク結合）\n",
    "agg_path = REPORTS_DIR / \"excluded_races.csv\"\n",
    "if agg_path.exists():\n",
    "    df_hist = pd.read_csv(agg_path, dtype={\"race_id\": str}, encoding=\"utf-8-sig\")[[\"race_id\",\"reason\"]]\n",
    "else:\n",
    "    df_hist = pd.DataFrame(columns=[\"race_id\",\"reason\"])\n",
    "\n",
    "df_all = pd.concat([df_hist, df_new[[\"race_id\",\"reason\"]]], ignore_index=True)\n",
    "df_agg = (\n",
    "    df_all.groupby(\"race_id\")[\"reason\"]\n",
    "          .apply(lambda s: \" / \".join(sorted(set(s.dropna()))))\n",
    "          .reset_index()\n",
    "          .sort_values(\"race_id\")\n",
    ")\n",
    "df_agg.to_csv(agg_path, index=False, encoding=\"utf-8-sig\")\n",
    "\n",
    "print(\"[OK] 除外レース（スナップショット）:\", snap_path)\n",
    "print(\"[OK] 除外レース（集約）:\", agg_path)\n",
    "print(df_agg.head(10).to_string(index=False))\n"
   ]
  },
  {
   "cell_type": "code",
   "execution_count": 29,
   "id": "be7175cd-c4e3-457a-b9e2-6c89adebb01a",
   "metadata": {},
   "outputs": [
    {
     "name": "stdout",
     "output_type": "stream",
     "text": [
      "<class 'pandas.core.frame.DataFrame'>\n",
      "Index: 5562 entries, 0 to 5957\n",
      "Data columns (total 67 columns):\n",
      " #   Column              Non-Null Count  Dtype         \n",
      "---  ------              --------------  -----         \n",
      " 0   player_id           5562 non-null   Int64         \n",
      " 1   AB_class            5562 non-null   object        \n",
      " 2   age                 5562 non-null   Int64         \n",
      " 3   weight              5562 non-null   float64       \n",
      " 4   team                5562 non-null   object        \n",
      " 5   origin              5562 non-null   object        \n",
      " 6   run_once            5562 non-null   Int64         \n",
      " 7   F                   5562 non-null   Int64         \n",
      " 8   L                   5562 non-null   Int64         \n",
      " 9   ST_mean             5562 non-null   float64       \n",
      " 10  N_winning_rate      5562 non-null   float64       \n",
      " 11  N_2rentai_rate      5562 non-null   float64       \n",
      " 12  N_3rentai_rate      5562 non-null   float64       \n",
      " 13  LC_winning_rate     5562 non-null   float64       \n",
      " 14  LC_2rentai_rate     5562 non-null   float64       \n",
      " 15  LC_3rentai_rate     5562 non-null   float64       \n",
      " 16  motor_number        5562 non-null   Int64         \n",
      " 17  motor_2rentai_rate  5562 non-null   float64       \n",
      " 18  motor_3rentai_rate  5562 non-null   float64       \n",
      " 19  boat_number         5562 non-null   Int64         \n",
      " 20  boat_2rentai_rate   5562 non-null   float64       \n",
      " 21  boat_3rentai_rate   5562 non-null   float64       \n",
      " 22  pred_mark           5562 non-null   Int64         \n",
      " 23  race_name           5562 non-null   object        \n",
      " 24  precondition_1      5562 non-null   object        \n",
      " 25  precondition_2      5562 non-null   object        \n",
      " 26  race_id             5562 non-null   object        \n",
      " 27  date                5562 non-null   datetime64[ns]\n",
      " 28  code                5562 non-null   Int64         \n",
      " 29  R                   5562 non-null   Int64         \n",
      " 30  timetable           5562 non-null   object        \n",
      " 31  entry_tenji         5562 non-null   Int64         \n",
      " 32  ST_tenji            5562 non-null   float64       \n",
      " 33  counter_weight      5562 non-null   object        \n",
      " 34  time_tenji          5562 non-null   float64       \n",
      " 35  Tilt                5562 non-null   float64       \n",
      " 36  propeller           5562 non-null   object        \n",
      " 37  parts_exchange      5562 non-null   object        \n",
      " 38  temperature         5562 non-null   float64       \n",
      " 39  weather             5562 non-null   object        \n",
      " 40  wind_speed          5562 non-null   float64       \n",
      " 41  wind_direction      5562 non-null   object        \n",
      " 42  water_temperature   5562 non-null   float64       \n",
      " 43  wave_height         5562 non-null   float64       \n",
      " 44  winning_trick       5562 non-null   object        \n",
      " 45  henkan_ticket       5562 non-null   object        \n",
      " 46  remarks             5562 non-null   object        \n",
      " 47  rank                5562 non-null   Int64         \n",
      " 48  wakuban             5562 non-null   Int64         \n",
      " 49  player              5562 non-null   object        \n",
      " 50  entry               5562 non-null   Int64         \n",
      " 51  ST                  5562 non-null   float64       \n",
      " 52  ST_rank             5562 non-null   Int64         \n",
      " 53  sex                 5562 non-null   object        \n",
      " 54  place               5562 non-null   object        \n",
      " 55  race_grade          5562 non-null   object        \n",
      " 56  race_type           5562 non-null   object        \n",
      " 57  race_attribute      5562 non-null   object        \n",
      " 58  title               5562 non-null   object        \n",
      " 59  day                 5562 non-null   Int64         \n",
      " 60  section             5562 non-null   Int64         \n",
      " 61  schedule            5562 non-null   object        \n",
      " 62  is_wakunari         5562 non-null   Int64         \n",
      " 63  section_id          5562 non-null   object        \n",
      " 64  __source_file       5562 non-null   object        \n",
      " 65  ST_tenji_rank       5562 non-null   Int64         \n",
      " 66  is_top2             5562 non-null   Int64         \n",
      "dtypes: Int64(20), datetime64[ns](1), float64(20), object(26)\n",
      "memory usage: 3.0+ MB\n"
     ]
    }
   ],
   "source": [
    "df.info()"
   ]
  },
  {
   "cell_type": "markdown",
   "id": "34ccdf89-39fb-4381-9204-61e4dc088fa0",
   "metadata": {},
   "source": [
    "# 最終ミニチェック"
   ]
  },
  {
   "cell_type": "code",
   "execution_count": 31,
   "id": "b1801e4b-3d42-4c59-a53d-6371f8329e70",
   "metadata": {},
   "outputs": [],
   "source": [
    "assert len(df) % 6 == 0, \"行数が6の倍数ではありません\"\n",
    "assert df[\"is_top2\"].isna().sum() == 0, \"is_top2にNaNがあります\"\n"
   ]
  },
  {
   "cell_type": "markdown",
   "id": "55d435e7-e869-41a7-bbf7-106b0e6a9748",
   "metadata": {},
   "source": [
    "# master.csv を UTF-8-SIG で書き出し（Excel互換）"
   ]
  },
  {
   "cell_type": "code",
   "execution_count": 33,
   "id": "499fec39-ae34-41d7-bbc9-2af0caecb151",
   "metadata": {},
   "outputs": [
    {
     "name": "stdout",
     "output_type": "stream",
     "text": [
      "[OK] wrote: C:\\Users\\user\\Desktop\\Git\\ark-blueprints\\data\\processed\\master.csv (5562, 67)\n"
     ]
    }
   ],
   "source": [
    "# 保存（UTF-8-SIGでExcelも安心）\n",
    "OUT_PATH.parent.mkdir(parents=True, exist_ok=True)\n",
    "df.to_csv(OUT_PATH, index=False, encoding=\"utf-8-sig\")\n",
    "print(\"[OK] wrote:\", OUT_PATH, df.shape)\n"
   ]
  },
  {
   "cell_type": "code",
   "execution_count": null,
   "id": "d7a225d6-7eac-4d97-b6aa-6c96bfba3fdf",
   "metadata": {},
   "outputs": [],
   "source": []
  }
 ],
 "metadata": {
  "kernelspec": {
   "display_name": "Python 3 (ipykernel)",
   "language": "python",
   "name": "python3"
  },
  "language_info": {
   "codemirror_mode": {
    "name": "ipython",
    "version": 3
   },
   "file_extension": ".py",
   "mimetype": "text/x-python",
   "name": "python",
   "nbconvert_exporter": "python",
   "pygments_lexer": "ipython3",
   "version": "3.12.3"
  }
 },
 "nbformat": 4,
 "nbformat_minor": 5
}
